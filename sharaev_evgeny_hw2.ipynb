{
 "cells": [
  {
   "cell_type": "markdown",
   "id": "35c475a6-b660-4220-ad0b-9d37bec9bb9a",
   "metadata": {},
   "source": [
    "### Домашняя работа №2\n",
    "### Анализ дампа оперативной памяти.\n",
    "### Шараев Евгений"
   ]
  },
  {
   "cell_type": "markdown",
   "id": "c1991928-b6f5-458c-b55f-03f02176e1ad",
   "metadata": {},
   "source": [
    "Задание к варианту 1.\n",
    "\n",
    " 1. Каков IP-адрес зараженного узла?\n",
    " 2. Каков MAC-адрес зараженного узла?\n",
    "3. Каково доменное имя зараженного узла?\n",
    "4. Какие сайты посетил пользователь зараженного устройства по своему желанию?\n",
    "5. Посещение каких сайтов зафиксировано в сетевом трафике?\n",
    "6. Каково доменное имя сайта, с которого произошла загрузка вредоносного программного обеспечения?\n",
    "7. Каков IP-адрес узла, с которого произошла загрузка вредоносного программного обеспечения?\n",
    "8. Загружались ли пользователем или системой без ведома пользователя файлы, не являющиеся вредоносными?\n",
    "9. Какие сайты (доменные имена) задействованы в заражении пользователя вредоносным программным обеспечением (имеют следы вредоносной активности, участвуют во вредоносных действиях)?\n",
    "10. Каков механизм переходов (перенаправлений) пользователя с посещенных сайтов на сайт, с которого было загружено вредоносное программное обеспечение?\n"
   ]
  },
  {
   "cell_type": "code",
   "execution_count": 1,
   "id": "132ce71d-5faa-4820-a875-a7aa12fb3410",
   "metadata": {},
   "outputs": [
    {
     "name": "stdout",
     "output_type": "stream",
     "text": [
      "total 1049196\n",
      "drwxr-xr-x 14 evgeny evgeny       4096 Apr 11 17:06 distorm\n",
      "drwxr-xr-x 14 evgeny evgeny       4096 Apr 11 17:14 distorm3\n",
      "drwxr-xr-x  7 evgeny evgeny       4096 Apr  2 11:13 env\n",
      "-rw-r--r--  1 evgeny evgeny     100910 Apr 12 12:38 sharaev_evgeny_hw2.ipynb\n",
      "-rw-r--r--  1 evgeny evgeny     504048 Apr 12 12:18 sharaev_evgeny_hw2.pdf\n",
      "-rw-r--r--  1 evgeny evgeny 1073741824 May 25  2023 var-1.vmem\n",
      "drwxr-xr-x  8 evgeny evgeny       4096 Apr 11 16:10 volatility\n",
      "drwxr-xr-x  8 evgeny evgeny       4096 Apr  2 10:17 volatility3\n"
     ]
    }
   ],
   "source": [
    "# Дамп оперативной памяти в файле var-1.vmem\n",
    "# Также я буду использовать две версии volatility: \n",
    "# под Python2 и под Python3\n",
    "\n",
    "!ls -l"
   ]
  },
  {
   "cell_type": "code",
   "execution_count": 2,
   "id": "7232d641-f34e-4747-a1f8-0df9b0d80522",
   "metadata": {},
   "outputs": [
    {
     "name": "stdout",
     "output_type": "stream",
     "text": [
      "Python 2.7.13\n",
      "Python 3.11.2\n"
     ]
    }
   ],
   "source": [
    "# Для этого у меня установлено сразу обе версии интерпретаторов\n",
    "\n",
    "!python2.7 --version\n",
    "!python3 --version"
   ]
  },
  {
   "cell_type": "code",
   "execution_count": 3,
   "id": "fbcc9d79-f2de-42ef-8167-1127e9f75552",
   "metadata": {},
   "outputs": [
    {
     "name": "stdout",
     "output_type": "stream",
     "text": [
      "Volatility Foundation Volatility Framework 2.6.1\n",
      "Volatility 3 Framework 2.7.0\n"
     ]
    }
   ],
   "source": [
    "# Используемая мной версия программы volatility\n",
    "\n",
    "!python2.7 volatility/vol.py -h | grep \"Framework 2\"\n",
    "!python3 volatility3/vol.py -h | grep \" Framework 2\""
   ]
  },
  {
   "cell_type": "code",
   "execution_count": 4,
   "id": "76dc6859-1640-47ba-b10e-65fcd3299e62",
   "metadata": {},
   "outputs": [
    {
     "name": "stdout",
     "output_type": "stream",
     "text": [
      "Volatility Foundation Volatility Framework 2.6.1\n",
      "INFO    : volatility.debug    : Determining profile based on KDBG search...\n",
      "          Suggested Profile(s) : Win7SP1x64, Win7SP0x64, Win2008R2SP0x64, Win2008R2SP1x64_24000, Win2008R2SP1x64_23418, Win2008R2SP1x64, Win7SP1x64_24000, Win7SP1x64_23418\n",
      "                     AS Layer1 : WindowsAMD64PagedMemory (Kernel AS)\n",
      "                     AS Layer2 : FileAddressSpace (/home/evgeny/Projects/forensic/var-1.vmem)\n",
      "                      PAE type : No PAE\n",
      "                           DTB : 0x187000L\n",
      "                          KDBG : 0xf80002bfd0a0L\n",
      "          Number of Processors : 1\n",
      "     Image Type (Service Pack) : 1\n",
      "                KPCR for CPU 0 : 0xfffff80002bfed00L\n",
      "             KUSER_SHARED_DATA : 0xfffff78000000000L\n",
      "           Image date and time : 2020-12-27 23:06:01 UTC+0000\n",
      "     Image local date and time : 2020-12-28 00:06:01 +0100\n"
     ]
    }
   ],
   "source": [
    "# 1. Определите семейство и версию операционной системы на компьютере \n",
    "# Джона.\n",
    "\n",
    "!python2.7 volatility/vol.py -f var-1.vmem imageinfo | grep -v Failed"
   ]
  },
  {
   "cell_type": "code",
   "execution_count": 5,
   "id": "3206ed7b-3c8c-4a81-a14d-280edbe01f54",
   "metadata": {},
   "outputs": [],
   "source": [
    "# Ответ: Наиболее вероятно Windows 7"
   ]
  },
  {
   "cell_type": "code",
   "execution_count": 6,
   "id": "60279bc8-a5a1-4c07-b5bb-7d329a3f87d7",
   "metadata": {},
   "outputs": [
    {
     "name": "stdout",
     "output_type": "stream",
     "text": [
      "Volatility 3 Framework 2.7.0\n",
      "WARNING  volatility3.framework.layers.vmware: No metadata file found alongside VMEM file. A VMSS or VMSN file may be required to correctly process a VMEM file. These should be placed in the same directory with the same file name, e.g. var-1.vmem and var-1.vmss.\n",
      "Progress:  100.00\t\tPDB scanning finished                        \n",
      "Offset\tProto\tLocalAddr\tLocalPort\tForeignAddr\tForeignPort\tState\tPID\tOwner\tCreated\n",
      "\n",
      "0x24d5c8c0\tTCPv4\t0.0.0.0\t554\t0.0.0.0\t0\tLISTENING\t2368\twmpnetwk.exe\t-\n",
      "0x37a47480\tTCPv4\t0.0.0.0\t554\t0.0.0.0\t0\tLISTENING\t2368\twmpnetwk.exe\t-\n",
      "0x37a47480\tTCPv6\t::\t554\t::\t0\tLISTENING\t2368\twmpnetwk.exe\t-\n"
     ]
    }
   ],
   "source": [
    "# 2. Какой процесс на компьютере Джона установил сетевое соединение \n",
    "# с участием порта 554?\n",
    "\n",
    "!python3 volatility3/vol.py \\\n",
    "    --filters LocalPort,554 \\\n",
    "    --file var-1.vmem \\\n",
    "    windows.netscan.NetScan"
   ]
  },
  {
   "cell_type": "code",
   "execution_count": 7,
   "id": "f3463f39-bcd5-4e61-86ec-9f2146b73ee1",
   "metadata": {},
   "outputs": [
    {
     "name": "stdout",
     "output_type": "stream",
     "text": [
      "Volatility Foundation Volatility Framework 2.6.1\n",
      "0x24d5c8c0         TCPv4    0.0.0.0:554                    0.0.0.0:0            LISTENING        2368     wmpnetwk.exe   \n",
      "0x37a47480         TCPv4    0.0.0.0:554                    0.0.0.0:0            LISTENING        2368     wmpnetwk.exe   \n",
      "0x37a47480         TCPv6    :::554                         :::0                 LISTENING        2368     wmpnetwk.exe   \n"
     ]
    }
   ],
   "source": [
    "# Проверяем на версии 2\n",
    "\n",
    "!python2.7 volatility/vol.py \\\n",
    "    --file var-1.vmem \\\n",
    "    --profile Win7SP1x64 \\\n",
    "    netscan | grep -v \"Failed\" | grep 554\n",
    "\n",
    "# Offset(P)        Proto    Local Address                  Foreign Address      State            Pid      Owner          Created"
   ]
  },
  {
   "cell_type": "code",
   "execution_count": 8,
   "id": "8aafc7d4-1bc3-4cd1-a45e-353b35523608",
   "metadata": {},
   "outputs": [],
   "source": [
    "# Ответ: Процесс PID 2368"
   ]
  },
  {
   "cell_type": "code",
   "execution_count": 9,
   "id": "d3b02292-7392-4936-9f54-bfc8a10c9ce4",
   "metadata": {},
   "outputs": [
    {
     "name": "stdout",
     "output_type": "stream",
     "text": [
      "Volatility 3 Framework 2.7.0\n",
      "WARNING  volatility3.framework.layers.vmware: No metadata file found alongside VMEM file. A VMSS or VMSN file may be required to correctly process a VMEM file. These should be placed in the same directory with the same file name, e.g. var-1.vmem and var-1.vmss.\n",
      "Progress:  100.00\t\tPDB scanning finished                        \n",
      "Offset\tProto\tLocalAddr\tLocalPort\tForeignAddr\tForeignPort\tState\tPID\tOwner\tCreated\n",
      "\n",
      "0x3692a6d0\tUDPv4\t0.0.0.0\t51351\t*\t0\t\t940\tsvchost.exe\t2020-12-27 23:05:56.000000 \n",
      "0x3692a6d0\tUDPv6\t::\t51351\t*\t0\t\t940\tsvchost.exe\t2020-12-27 23:05:56.000000 \n",
      "0x3d6072c0\tTCPv4\t0.0.0.0\t135\t0.0.0.0\t0\tLISTENING\t700\tsvchost.exe\t-\n",
      "0x3d6075c0\tTCPv4\t0.0.0.0\t135\t0.0.0.0\t0\tLISTENING\t700\tsvchost.exe\t-\n",
      "0x3d6075c0\tTCPv6\t::\t135\t::\t0\tLISTENING\t700\tsvchost.exe\t-\n",
      "0x3d721e20\tUDPv4\t192.168.136.131\t137\t*\t0\t\t4\tSystem\t2020-12-27 22:50:58.000000 \n",
      "0x3d7331c0\tTCPv4\t192.168.136.131\t139\t0.0.0.0\t0\tLISTENING\t4\tSystem\t-\n",
      "0x3d736010\tUDPv4\t192.168.136.131\t138\t*\t0\t\t4\tSystem\t2020-12-27 22:50:58.000000 \n"
     ]
    }
   ],
   "source": [
    "# 3. Устанавливались ли сетевые соединения компьютера Джона \n",
    "# с участием локальных портов в диапазоне 135-140?\n",
    "\n",
    "!python3 volatility3/vol.py \\\n",
    "    --filters LocalPort,135 \\\n",
    "    --filters LocalPort,136 \\\n",
    "    --filters LocalPort,137 \\\n",
    "    --filters LocalPort,138 \\\n",
    "    --filters LocalPort,139 \\\n",
    "    --filters LocalPort,140 \\\n",
    "    --file var-1.vmem \\\n",
    "    windows.netscan.NetScan"
   ]
  },
  {
   "cell_type": "code",
   "execution_count": 10,
   "id": "ba047b45-e0e8-4f4a-b45b-6df12c4a8a43",
   "metadata": {},
   "outputs": [
    {
     "name": "stdout",
     "output_type": "stream",
     "text": [
      "Volatility Foundation Volatility Framework 2.6.1\n",
      "0xded3900          UDPv4    127.0.0.1:62336                *:*                                   1408     svchost.exe    2020-12-27 22:51:00 UTC+0000\n",
      "0xded3ec0          UDPv6    ::1:62334                      *:*                                   1408     svchost.exe    2020-12-27 22:51:00 UTC+0000\n",
      "0x217751c0         UDPv4    0.0.0.0:3702                   *:*                                   1408     svchost.exe    2020-12-27 22:52:12 UTC+0000\n",
      "0x29a53010         UDPv6    ::1:1900                       *:*                                   1408     svchost.exe    2020-12-27 22:51:00 UTC+0000\n",
      "0x29a53290         UDPv4    127.0.0.1:1900                 *:*                                   1408     svchost.exe    2020-12-27 22:51:00 UTC+0000\n",
      "0x29a53950         UDPv4    192.168.136.131:1900           *:*                                   1408     svchost.exe    2020-12-27 22:51:00 UTC+0000\n",
      "0x2a453010         UDPv6    fe80::bda1:b28:fab2:a38c:62333 *:*                                   1408     svchost.exe    2020-12-27 22:51:00 UTC+0000\n",
      "0x2a453800         UDPv6    fe80::bda1:b28:fab2:a38c:1900  *:*                                   1408     svchost.exe    2020-12-27 22:51:00 UTC+0000\n",
      "0x2afd7450         UDPv4    0.0.0.0:3702                   *:*                                   1408     svchost.exe    2020-12-27 22:52:12 UTC+0000\n",
      "0x2b7e58e0         UDPv4    0.0.0.0:3702                   *:*                                   1408     svchost.exe    2020-12-27 22:52:12 UTC+0000\n",
      "0x2b7e58e0         UDPv6    :::3702                        *:*                                   1408     svchost.exe    2020-12-27 22:52:12 UTC+0000\n",
      "0x308d3ec0         UDPv4    192.168.136.131:62335          *:*                                   1408     svchost.exe    2020-12-27 22:51:00 UTC+0000\n",
      "0x32726010         UDPv4    0.0.0.0:55377                  *:*                                   1408     svchost.exe    2020-12-27 22:50:53 UTC+0000\n",
      "0x32726010         UDPv6    :::55377                       *:*                                   1408     svchost.exe    2020-12-27 22:50:53 UTC+0000\n",
      "0x343a8010         UDPv4    0.0.0.0:55376                  *:*                                   1408     svchost.exe    2020-12-27 22:50:53 UTC+0000\n",
      "0x3692a6d0         UDPv4    0.0.0.0:51351                  *:*                                   940      svchost.exe    2020-12-27 23:05:56 UTC+0000\n",
      "0x3692a6d0         UDPv6    :::51351                       *:*                                   940      svchost.exe    2020-12-27 23:05:56 UTC+0000\n",
      "0x3d64e320         UDPv4    0.0.0.0:3702                   *:*                                   1408     svchost.exe    2020-12-27 22:52:12 UTC+0000\n",
      "0x3d64e320         UDPv6    :::3702                        *:*                                   1408     svchost.exe    2020-12-27 22:52:12 UTC+0000\n",
      "0x3d721e20         UDPv4    192.168.136.131:137            *:*                                   4        System         2020-12-27 22:50:58 UTC+0000\n",
      "0x3d736010         UDPv4    192.168.136.131:138            *:*                                   4        System         2020-12-27 22:50:58 UTC+0000\n",
      "0x3d6072c0         TCPv4    0.0.0.0:135                    0.0.0.0:0            LISTENING        700      svchost.exe    \n",
      "0x3d6075c0         TCPv4    0.0.0.0:135                    0.0.0.0:0            LISTENING        700      svchost.exe    \n",
      "0x3d6075c0         TCPv6    :::135                         :::0                 LISTENING        700      svchost.exe    \n",
      "0x3d7331c0         TCPv4    192.168.136.131:139            0.0.0.0:0            LISTENING        4        System         \n"
     ]
    }
   ],
   "source": [
    "# Проверяем на версии 2\n",
    "\n",
    "!python2.7 volatility/vol.py \\\n",
    "    --file var-1.vmem \\\n",
    "    --profile Win7SP1x64 \\\n",
    "    netscan | grep -v \"Failed\" | grep -e \"135\" -e \"136\" -e \"137\" -e \"138\" -e \"139\" -e \"140\"\n",
    "\n",
    "# Offset(P)          Proto    Local Address                  Foreign Address      State            Pid      Owner          Created"
   ]
  },
  {
   "cell_type": "code",
   "execution_count": 11,
   "id": "f87eb2a5-66aa-43b9-91f9-fff4722c7cf5",
   "metadata": {},
   "outputs": [],
   "source": [
    "# Ответ: да, устанавливались."
   ]
  },
  {
   "cell_type": "code",
   "execution_count": 12,
   "id": "4cb0971c-6f92-4286-a8a0-94f4cb6328d4",
   "metadata": {},
   "outputs": [],
   "source": [
    "# 4. Если такие соединения устанавливались, укажите идентификаторы \n",
    "# процессов, устанавливавших такие соединения."
   ]
  },
  {
   "cell_type": "code",
   "execution_count": 13,
   "id": "5ddd1706-76d1-4b28-9980-1d17a6d135a1",
   "metadata": {},
   "outputs": [],
   "source": [
    "# Ответ: PID 4, PID 700"
   ]
  },
  {
   "cell_type": "code",
   "execution_count": 14,
   "id": "eaa4a6e0-e913-487b-98f5-7e16e5d5057d",
   "metadata": {},
   "outputs": [
    {
     "name": "stdout",
     "output_type": "stream",
     "text": [
      "Volatility 3 Framework 2.7.0\n",
      "WARNING  volatility3.framework.layers.vmware: No metadata file found alongside VMEM file. A VMSS or VMSN file may be required to correctly process a VMEM file. These should be placed in the same directory with the same file name, e.g. var-1.vmem and var-1.vmss.\n",
      "Progress:  100.00\t\tPDB scanning finished                        \n",
      "PID\tPPID\tImageFileName\tOffset(V)\tThreads\tHandles\tSessionId\tWow64\tCreateTime\tExitTime\tFile output\n",
      "\n",
      "4\t0\tSystem\t0xfa80024b36f0\t87\t550\tN/A\tFalse\t2020-12-27 22:50:39.000000 \tN/A\tDisabled\n",
      "348\t340\tcsrss.exe\t0xfa8004402b30\t8\t484\t0\tFalse\t2020-12-27 22:50:40.000000 \tN/A\tDisabled\n",
      "400\t340\twininit.exe\t0xfa8004663560\t3\t75\t0\tFalse\t2020-12-27 22:50:41.000000 \tN/A\tDisabled\n",
      "412\t392\tcsrss.exe\t0xfa80043bdb30\t10\t196\t1\tFalse\t2020-12-27 22:50:41.000000 \tN/A\tDisabled\n",
      "460\t392\twinlogon.exe\t0xfa80046b3060\t3\t112\t1\tFalse\t2020-12-27 22:50:41.000000 \tN/A\tDisabled\n",
      "524\t400\tlsm.exe\t0xfa8004868b30\t9\t141\t0\tFalse\t2020-12-27 22:50:44.000000 \tN/A\tDisabled\n",
      "700\t508\tsvchost.exe\t0xfa8004bfa740\t6\t273\t0\tFalse\t2020-12-27 22:50:48.000000 \tN/A\tDisabled\n",
      "940\t508\tsvchost.exe\t0xfa8004ddfab0\t17\t384\t0\tFalse\t2020-12-27 22:50:52.000000 \tN/A\tDisabled\n",
      "1144\t1124\texplorer.exe\t0xfa8004e82b30\t22\t742\t1\tFalse\t2020-12-27 22:50:52.000000 \tN/A\tDisabled\n",
      "1224\t508\ttaskhost.exe\t0xfa8004f042c0\t7\t145\t1\tFalse\t2020-12-27 22:50:52.000000 \tN/A\tDisabled\n",
      "1248\t508\tsvchost.exe\t0xfa8004f19060\t19\t325\t0\tFalse\t2020-12-27 22:50:52.000000 \tN/A\tDisabled\n",
      "1408\t508\tsvchost.exe\t0xfa8004fd3b30\t22\t308\t0\tFalse\t2020-12-27 22:50:52.000000 \tN/A\tDisabled\n",
      "1480\t508\tVGAuthService.\t0xfa8004fbcb30\t3\t84\t0\tFalse\t2020-12-27 22:50:52.000000 \tN/A\tDisabled\n",
      "1040\t508\tmsdtc.exe\t0xfa800532a690\t12\t144\t0\tFalse\t2020-12-27 22:50:57.000000 \tN/A\tDisabled\n",
      "2240\t508\tSearchIndexer.\t0xfa80053ee4e0\t13\t593\t0\tFalse\t2020-12-27 22:50:59.000000 \tN/A\tDisabled\n",
      "2824\t612\tWmiPrvSE.exe\t0xfa80053f6060\t8\t215\t0\tFalse\t2020-12-27 22:51:01.000000 \tN/A\tDisabled\n",
      "1204\t508\tmscorsvw.exe\t0xfa8004749710\t7\t73\t0\tFalse\t2020-12-27 22:52:55.000000 \tN/A\tDisabled\n",
      "724\t508\tsppsvc.exe\t0xfa80052f0060\t4\t150\t0\tFalse\t2020-12-27 22:52:56.000000 \tN/A\tDisabled\n",
      "2488\t412\tconhost.exe\t0xfa8002784450\t2\t51\t1\tFalse\t2020-12-27 23:04:50.000000 \tN/A\tDisabled\n"
     ]
    }
   ],
   "source": [
    "# 5. Укажите идентификатор процессов-родителей данных процессов. \n",
    "\n",
    "!python3 volatility3/vol.py \\\n",
    "    --filters PID,700 \\\n",
    "    --filters PID,4 \\\n",
    "    --file var-1.vmem \\\n",
    "    windows.pslist "
   ]
  },
  {
   "cell_type": "code",
   "execution_count": 15,
   "id": "f3aab1bc-e844-4d91-958d-67b305f04a0f",
   "metadata": {},
   "outputs": [
    {
     "name": "stdout",
     "output_type": "stream",
     "text": [
      "Volatility Foundation Volatility Framework 2.6.1\n",
      "Offset(V)          Name                    PID   PPID   Thds     Hnds   Sess  Wow64 Start                          Exit                          \n",
      "0xfffffa80024b36f0 System                    4      0     87      550 ------      0 2020-12-27 22:50:39 UTC+0000                                 \n",
      "0xfffffa8003ad8780 smss.exe                260      4      2       29 ------      0 2020-12-27 22:50:39 UTC+0000                                 \n",
      "0xfffffa8004402b30 csrss.exe               348    340      8      484      0      0 2020-12-27 22:50:40 UTC+0000                                 \n",
      "0xfffffa8004663560 wininit.exe             400    340      3       75      0      0 2020-12-27 22:50:41 UTC+0000                                 \n",
      "0xfffffa80043bdb30 csrss.exe               412    392     10      196      1      0 2020-12-27 22:50:41 UTC+0000                                 \n",
      "0xfffffa80046b3060 winlogon.exe            460    392      3      112      1      0 2020-12-27 22:50:41 UTC+0000                                 \n",
      "0xfffffa8004864060 services.exe            508    400      8      220      0      0 2020-12-27 22:50:43 UTC+0000                                 \n",
      "0xfffffa800485e910 lsass.exe               516    400      7      708      0      0 2020-12-27 22:50:44 UTC+0000                                 \n",
      "0xfffffa8004868b30 lsm.exe                 524    400      9      141      0      0 2020-12-27 22:50:44 UTC+0000                                 \n",
      "0xfffffa8004bf3610 svchost.exe             612    508      9      350      0      0 2020-12-27 22:50:46 UTC+0000                                 \n",
      "0xfffffa8004bf2060 vm3dservice.ex          676    508      3       44      0      0 2020-12-27 22:50:48 UTC+0000                                 \n",
      "0xfffffa8004bfa740 svchost.exe             700    508      6      273      0      0 2020-12-27 22:50:48 UTC+0000                                 \n",
      "0xfffffa8004c5fb30 svchost.exe             812    508     23      576      0      0 2020-12-27 22:50:49 UTC+0000                                 \n",
      "0xfffffa8004cb0390 svchost.exe             852    508     26      530      0      0 2020-12-27 22:50:49 UTC+0000                                 \n",
      "0xfffffa8004cc7b30 svchost.exe             896    508     40      939      0      0 2020-12-27 22:50:49 UTC+0000                                 \n",
      "0xfffffa8004cfdb30 svchost.exe             296    508     18      759      0      0 2020-12-27 22:50:50 UTC+0000                                 \n",
      "0xfffffa8004ddfab0 svchost.exe             940    508     17      384      0      0 2020-12-27 22:50:52 UTC+0000                                 \n",
      "0xfffffa8004e58630 dwm.exe                1132    852      3       69      1      0 2020-12-27 22:50:52 UTC+0000                                 \n",
      "0xfffffa8004e82b30 explorer.exe           1144   1124     22      742      1      0 2020-12-27 22:50:52 UTC+0000                                 \n",
      "0xfffffa8004e3e740 spoolsv.exe            1192    508     13      267      0      0 2020-12-27 22:50:52 UTC+0000                                 \n",
      "0xfffffa8004f042c0 taskhost.exe           1224    508      7      145      1      0 2020-12-27 22:50:52 UTC+0000                                 \n",
      "0xfffffa8004f19060 svchost.exe            1248    508     19      325      0      0 2020-12-27 22:50:52 UTC+0000                                 \n",
      "0xfffffa8004fd3b30 svchost.exe            1408    508     22      308      0      0 2020-12-27 22:50:52 UTC+0000                                 \n",
      "0xfffffa8004fbcb30 VGAuthService.         1480    508      3       84      0      0 2020-12-27 22:50:52 UTC+0000                                 \n",
      "0xfffffa8004ee4910 vmtoolsd.exe           1516    508     11      267      0      0 2020-12-27 22:50:53 UTC+0000                                 \n",
      "0xfffffa800518f890 vm3dservice.ex         1988   1144      2       48      1      0 2020-12-27 22:50:53 UTC+0000                                 \n",
      "0xfffffa800516a2f0 vmtoolsd.exe           1996   1144      8      168      1      0 2020-12-27 22:50:53 UTC+0000                                 \n",
      "0xfffffa800532a690 msdtc.exe              1040    508     12      144      0      0 2020-12-27 22:50:57 UTC+0000                                 \n",
      "0xfffffa80053ee4e0 SearchIndexer.         2240    508     13      593      0      0 2020-12-27 22:50:59 UTC+0000                                 \n",
      "0xfffffa8005433060 wmpnetwk.exe           2368    508     13      417      0      0 2020-12-27 22:51:00 UTC+0000                                 \n",
      "0xfffffa800547db30 svchost.exe            2632    508      9      349      0      0 2020-12-27 22:51:00 UTC+0000                                 \n",
      "0xfffffa80053f6060 WmiPrvSE.exe           2824    612      8      215      0      0 2020-12-27 22:51:01 UTC+0000                                 \n",
      "0xfffffa8004749710 mscorsvw.exe           1204    508      7       73      0      0 2020-12-27 22:52:55 UTC+0000                                 \n",
      "0xfffffa80052f0060 sppsvc.exe              724    508      4      150      0      0 2020-12-27 22:52:56 UTC+0000                                 \n",
      "0xfffffa8005686060 audiodg.exe            2336    812      4      122      0      0 2020-12-27 23:04:49 UTC+0000                                 \n",
      "0xfffffa80027906f0 cmd.exe                1920   1144      1       20      1      0 2020-12-27 23:04:50 UTC+0000                                 \n",
      "0xfffffa8002784450 conhost.exe            2488    412      2       51      1      0 2020-12-27 23:04:50 UTC+0000                                 \n"
     ]
    }
   ],
   "source": [
    "# Проверяем на версии 2\n",
    "\n",
    "!python2.7 volatility/vol.py \\\n",
    "    --file var-1.vmem \\\n",
    "    --profile Win7SP1x64 \\\n",
    "    pslist | grep -v \"Failed\" | grep -e \"4\" -e \"700\"\n",
    "\n",
    "# Offset(V)          Name                    PID   PPID   Thds     Hnds   Sess  Wow64 Start                          Exit"
   ]
  },
  {
   "cell_type": "code",
   "execution_count": 16,
   "id": "66601db1-d401-4b4f-bb1b-0f58c1642e99",
   "metadata": {},
   "outputs": [],
   "source": [
    "# Ответ\n",
    "# PPID(PID 4) --> PID 0\n",
    "# PPID(PID 700) --> PID 508"
   ]
  },
  {
   "cell_type": "code",
   "execution_count": 17,
   "id": "024de43b-22ee-44e0-983d-dc3ba3376cb1",
   "metadata": {},
   "outputs": [
    {
     "name": "stdout",
     "output_type": "stream",
     "text": [
      "Volatility 3 Framework 2.7.0\n",
      "WARNING  volatility3.framework.layers.vmware: No metadata file found alongside VMEM file. A VMSS or VMSN file may be required to correctly process a VMEM file. These should be placed in the same directory with the same file name, e.g. var-1.vmem and var-1.vmss.\n",
      "Progress:  100.00\t\tPDB scanning finished                        \n",
      "PID\tPPID\tImageFileName\tOffset(V)\tThreads\tHandles\tSessionId\tWow64\tCreateTime\tExitTime\tFile output\n",
      "\n",
      "260\t4\tsmss.exe\t0xfa8003ad8780\t2\t29\tN/A\tFalse\t2020-12-27 22:50:39.000000 \tN/A\tDisabled\n",
      "348\t340\tcsrss.exe\t0xfa8004402b30\t8\t484\t0\tFalse\t2020-12-27 22:50:40.000000 \tN/A\tDisabled\n",
      "400\t340\twininit.exe\t0xfa8004663560\t3\t75\t0\tFalse\t2020-12-27 22:50:41.000000 \tN/A\tDisabled\n",
      "508\t400\tservices.exe\t0xfa8004864060\t8\t220\t0\tFalse\t2020-12-27 22:50:43.000000 \tN/A\tDisabled\n",
      "516\t400\tlsass.exe\t0xfa800485e910\t7\t708\t0\tFalse\t2020-12-27 22:50:44.000000 \tN/A\tDisabled\n",
      "524\t400\tlsm.exe\t0xfa8004868b30\t9\t141\t0\tFalse\t2020-12-27 22:50:44.000000 \tN/A\tDisabled\n",
      "1144\t1124\texplorer.exe\t0xfa8004e82b30\t22\t742\t1\tFalse\t2020-12-27 22:50:52.000000 \tN/A\tDisabled\n",
      "1988\t1144\tvm3dservice.ex\t0xfa800518f890\t2\t48\t1\tFalse\t2020-12-27 22:50:53.000000 \tN/A\tDisabled\n",
      "1996\t1144\tvmtoolsd.exe\t0xfa800516a2f0\t8\t168\t1\tFalse\t2020-12-27 22:50:53.000000 \tN/A\tDisabled\n",
      "1920\t1144\tcmd.exe\t0xfa80027906f0\t1\t20\t1\tFalse\t2020-12-27 23:04:50.000000 \tN/A\tDisabled\n",
      "2488\t412\tconhost.exe\t0xfa8002784450\t2\t51\t1\tFalse\t2020-12-27 23:04:50.000000 \tN/A\tDisabled\n"
     ]
    }
   ],
   "source": [
    "# 6. Укажите все процессы, порожденные процессами, устанавливавшими \n",
    "# выявленные в пункте 3 соединения.\n",
    "# Если соединения породили PID 4 и 700 то порожденные ими процессы - \n",
    "# это их дети и в колонке PPID они будут иметь процеесы 700 и 4\n",
    "\n",
    "!python3 volatility3/vol.py \\\n",
    "    --filters PPID,700 \\\n",
    "    --filters PPID,4 \\\n",
    "    --file var-1.vmem \\\n",
    "    windows.pslist"
   ]
  },
  {
   "cell_type": "code",
   "execution_count": 18,
   "id": "a81aaeb1-afdb-4f9d-a1fa-2c0e0b43f93b",
   "metadata": {},
   "outputs": [
    {
     "name": "stdout",
     "output_type": "stream",
     "text": [
      "Volatility 3 Framework 2.7.0\n",
      "WARNING  volatility3.framework.layers.vmware: No metadata file found alongside VMEM file. A VMSS or VMSN file may be required to correctly process a VMEM file. These should be placed in the same directory with the same file name, e.g. var-1.vmem and var-1.vmss.\n",
      "Progress:  100.00\t\tPDB scanning finished                        \n",
      "PID\tPPID\tImageFileName\tOffset(V)\tThreads\tHandles\tSessionId\tWow64\tCreateTime\tExitTime\tAudit\tCmd\tPath\n",
      "\n",
      "* 260\t4\tsmss.exe\t0xfa8003ad8780\t2\t29\tN/A\tFalse\t2020-12-27 22:50:39.000000 \tN/A\t\\Device\\HarddiskVolume2\\Windows\\System32\\smss.exe\t\\SystemRoot\\System32\\smss.exe\t\\SystemRoot\\System32\\smss.exe\n",
      "348\t340\tcsrss.exe\t0xfa8004402b30\t8\t484\t0\tFalse\t2020-12-27 22:50:40.000000 \tN/A\t\\Device\\HarddiskVolume2\\Windows\\System32\\csrss.exe\t%SystemRoot%\\system32\\csrss.exe ObjectDirectory=\\Windows SharedSection=1024,20480,768 Windows=On SubSystemType=Windows ServerDll=basesrv,1 ServerDll=winsrv:UserServerDllInitialization,3 ServerDll=winsrv:ConServerDllInitialization,2 ServerDll=sxssrv,4 ProfileControl=Off MaxRequestThreads=16\tC:\\Windows\\system32\\csrss.exe\n",
      "400\t340\twininit.exe\t0xfa8004663560\t3\t75\t0\tFalse\t2020-12-27 22:50:41.000000 \tN/A\t\\Device\\HarddiskVolume2\\Windows\\System32\\wininit.exe\twininit.exe\tC:\\Windows\\system32\\wininit.exe\n",
      "* 524\t400\tlsm.exe\t0xfa8004868b30\t9\t141\t0\tFalse\t2020-12-27 22:50:44.000000 \tN/A\t\\Device\\HarddiskVolume2\\Windows\\System32\\lsm.exe\tC:\\Windows\\system32\\lsm.exe\tC:\\Windows\\system32\\lsm.exe\n",
      "* 508\t400\tservices.exe\t0xfa8004864060\t8\t220\t0\tFalse\t2020-12-27 22:50:43.000000 \tN/A\t\\Device\\HarddiskVolume2\\Windows\\System32\\services.exe\tC:\\Windows\\system32\\services.exe\tC:\\Windows\\system32\\services.exe\n",
      "* 516\t400\tlsass.exe\t0xfa800485e910\t7\t708\t0\tFalse\t2020-12-27 22:50:44.000000 \tN/A\t\\Device\\HarddiskVolume2\\Windows\\System32\\lsass.exe\tC:\\Windows\\system32\\lsass.exe\tC:\\Windows\\system32\\lsass.exe\n",
      "* 2488\t412\tconhost.exe\t0xfa8002784450\t2\t51\t1\tFalse\t2020-12-27 23:04:50.000000 \tN/A\t\\Device\\HarddiskVolume2\\Windows\\System32\\conhost.exe\t\\??\\C:\\Windows\\system32\\conhost.exe\tC:\\Windows\\system32\\conhost.exe\n",
      "1144\t1124\texplorer.exe\t0xfa8004e82b30\t22\t742\t1\tFalse\t2020-12-27 22:50:52.000000 \tN/A\t\\Device\\HarddiskVolume2\\Windows\\explorer.exe\tC:\\Windows\\Explorer.EXE\tC:\\Windows\\Explorer.EXE\n",
      "* 1920\t1144\tcmd.exe\t0xfa80027906f0\t1\t20\t1\tFalse\t2020-12-27 23:04:50.000000 \tN/A\t\\Device\\HarddiskVolume2\\Windows\\System32\\cmd.exe\t\"C:\\Windows\\System32\\cmd.exe\" \tC:\\Windows\\System32\\cmd.exe\n",
      "* 1996\t1144\tvmtoolsd.exe\t0xfa800516a2f0\t8\t168\t1\tFalse\t2020-12-27 22:50:53.000000 \tN/A\t\\Device\\HarddiskVolume2\\Program Files\\VMware\\VMware Tools\\vmtoolsd.exe\t\"C:\\Program Files\\VMware\\VMware Tools\\vmtoolsd.exe\" -n vmusr\tC:\\Program Files\\VMware\\VMware Tools\\vmtoolsd.exe\n",
      "* 1988\t1144\tvm3dservice.ex\t0xfa800518f890\t2\t48\t1\tFalse\t2020-12-27 22:50:53.000000 \tN/A\t\\Device\\HarddiskVolume2\\Windows\\System32\\vm3dservice.exe\t\"C:\\Windows\\System32\\vm3dservice.exe\" -u\tC:\\Windows\\System32\\vm3dservice.exe\n"
     ]
    }
   ],
   "source": [
    "# Также проверю в плагине pstree\n",
    "\n",
    "!python3 volatility3/vol.py \\\n",
    "    --filters PPID,4 \\\n",
    "    --filters PPID,700 \\\n",
    "    --file var-1.vmem \\\n",
    "    windows.pstree"
   ]
  },
  {
   "cell_type": "code",
   "execution_count": 19,
   "id": "4a50cd80-89f0-4334-a33d-9ec48a4a2b3b",
   "metadata": {},
   "outputs": [],
   "source": [
    "# Ответ:\n",
    "# PID 4 породил процесс PID 260\n",
    "# PID 700 не породил ни одного процесса"
   ]
  },
  {
   "cell_type": "code",
   "execution_count": 20,
   "id": "4fa5e07f-7b4a-4a5e-93ee-4c42b18a8809",
   "metadata": {},
   "outputs": [
    {
     "name": "stdout",
     "output_type": "stream",
     "text": [
      "Volatility 3 Framework 2.7.0\n",
      "WARNING  volatility3.framework.layers.vmware: No metadata file found alongside VMEM file. A VMSS or VMSN file may be required to correctly process a VMEM file. These should be placed in the same directory with the same file name, e.g. var-1.vmem and var-1.vmss.\n",
      "Progress:  100.00\t\tPDB scanning finished                        \n",
      "PID\tPPID\tImageFileName\tOffset(V)\tThreads\tHandles\tSessionId\tWow64\tCreateTime\tExitTime\tFile output\n",
      "\n",
      "612\t508\tsvchost.exe\t0xfa8004bf3610\t9\t350\t0\tFalse\t2020-12-27 22:50:46.000000 \tN/A\tDisabled\n",
      "676\t508\tvm3dservice.ex\t0xfa8004bf2060\t3\t44\t0\tFalse\t2020-12-27 22:50:48.000000 \tN/A\tDisabled\n",
      "700\t508\tsvchost.exe\t0xfa8004bfa740\t6\t273\t0\tFalse\t2020-12-27 22:50:48.000000 \tN/A\tDisabled\n",
      "812\t508\tsvchost.exe\t0xfa8004c5fb30\t23\t576\t0\tFalse\t2020-12-27 22:50:49.000000 \tN/A\tDisabled\n",
      "852\t508\tsvchost.exe\t0xfa8004cb0390\t26\t530\t0\tFalse\t2020-12-27 22:50:49.000000 \tN/A\tDisabled\n",
      "896\t508\tsvchost.exe\t0xfa8004cc7b30\t40\t939\t0\tFalse\t2020-12-27 22:50:49.000000 \tN/A\tDisabled\n",
      "296\t508\tsvchost.exe\t0xfa8004cfdb30\t18\t759\t0\tFalse\t2020-12-27 22:50:50.000000 \tN/A\tDisabled\n",
      "940\t508\tsvchost.exe\t0xfa8004ddfab0\t17\t384\t0\tFalse\t2020-12-27 22:50:52.000000 \tN/A\tDisabled\n",
      "1192\t508\tspoolsv.exe\t0xfa8004e3e740\t13\t267\t0\tFalse\t2020-12-27 22:50:52.000000 \tN/A\tDisabled\n",
      "1224\t508\ttaskhost.exe\t0xfa8004f042c0\t7\t145\t1\tFalse\t2020-12-27 22:50:52.000000 \tN/A\tDisabled\n",
      "1248\t508\tsvchost.exe\t0xfa8004f19060\t19\t325\t0\tFalse\t2020-12-27 22:50:52.000000 \tN/A\tDisabled\n",
      "1408\t508\tsvchost.exe\t0xfa8004fd3b30\t22\t308\t0\tFalse\t2020-12-27 22:50:52.000000 \tN/A\tDisabled\n",
      "1480\t508\tVGAuthService.\t0xfa8004fbcb30\t3\t84\t0\tFalse\t2020-12-27 22:50:52.000000 \tN/A\tDisabled\n",
      "1516\t508\tvmtoolsd.exe\t0xfa8004ee4910\t11\t267\t0\tFalse\t2020-12-27 22:50:53.000000 \tN/A\tDisabled\n",
      "1932\t508\tdllhost.exe\t0xfa800515d890\t13\t189\t0\tFalse\t2020-12-27 22:50:53.000000 \tN/A\tDisabled\n",
      "1040\t508\tmsdtc.exe\t0xfa800532a690\t12\t144\t0\tFalse\t2020-12-27 22:50:57.000000 \tN/A\tDisabled\n",
      "2240\t508\tSearchIndexer.\t0xfa80053ee4e0\t13\t593\t0\tFalse\t2020-12-27 22:50:59.000000 \tN/A\tDisabled\n",
      "2368\t508\twmpnetwk.exe\t0xfa8005433060\t13\t417\t0\tFalse\t2020-12-27 22:51:00.000000 \tN/A\tDisabled\n",
      "2632\t508\tsvchost.exe\t0xfa800547db30\t9\t349\t0\tFalse\t2020-12-27 22:51:00.000000 \tN/A\tDisabled\n",
      "1288\t508\tmscorsvw.exe\t0xfa8005659a00\t6\t81\t0\tTrue\t2020-12-27 22:52:53.000000 \tN/A\tDisabled\n",
      "1204\t508\tmscorsvw.exe\t0xfa8004749710\t7\t73\t0\tFalse\t2020-12-27 22:52:55.000000 \tN/A\tDisabled\n",
      "724\t508\tsppsvc.exe\t0xfa80052f0060\t4\t150\t0\tFalse\t2020-12-27 22:52:56.000000 \tN/A\tDisabled\n",
      "2008\t508\tsvchost.exe\t0xfa80031d3060\t12\t317\t0\tFalse\t2020-12-27 22:52:56.000000 \tN/A\tDisabled\n"
     ]
    }
   ],
   "source": [
    "# А какие процессы были порождены процессом породившим процесс 700? \n",
    "# То есть у каких процессов PPID 508\n",
    "\n",
    "!python3 volatility3/vol.py \\\n",
    "    --filters PPID,508 \\\n",
    "    --file var-1.vmem \\\n",
    "    windows.pslist"
   ]
  },
  {
   "cell_type": "code",
   "execution_count": 21,
   "id": "603c9a42-8f59-494c-b923-4418385eaa7e",
   "metadata": {},
   "outputs": [],
   "source": [
    "# А вот тут много всего"
   ]
  },
  {
   "cell_type": "code",
   "execution_count": 22,
   "id": "4a50f83c-c3f8-4775-875b-6ddad97e5852",
   "metadata": {},
   "outputs": [
    {
     "name": "stdout",
     "output_type": "stream",
     "text": [
      "Volatility 3 Framework 2.7.0\n",
      "WARNING  volatility3.framework.layers.vmware: No metadata file found alongside VMEM file. A VMSS or VMSN file may be required to correctly process a VMEM file. These should be placed in the same directory with the same file name, e.g. var-1.vmem and var-1.vmss.\n",
      "Progress:  100.00\t\tPDB scanning finished                        \n",
      "PID\tPPID\tImageFileName\tOffset(V)\tThreads\tHandles\tSessionId\tWow64\tCreateTime\tExitTime\tFile output\n",
      "\n",
      "612\t508\tsvchost.exe\t0xfa8004bf3610\t9\t350\t0\tFalse\t2020-12-27 22:50:46.000000 \tN/A\tDisabled\n",
      "700\t508\tsvchost.exe\t0xfa8004bfa740\t6\t273\t0\tFalse\t2020-12-27 22:50:48.000000 \tN/A\tDisabled\n",
      "812\t508\tsvchost.exe\t0xfa8004c5fb30\t23\t576\t0\tFalse\t2020-12-27 22:50:49.000000 \tN/A\tDisabled\n",
      "852\t508\tsvchost.exe\t0xfa8004cb0390\t26\t530\t0\tFalse\t2020-12-27 22:50:49.000000 \tN/A\tDisabled\n",
      "896\t508\tsvchost.exe\t0xfa8004cc7b30\t40\t939\t0\tFalse\t2020-12-27 22:50:49.000000 \tN/A\tDisabled\n",
      "296\t508\tsvchost.exe\t0xfa8004cfdb30\t18\t759\t0\tFalse\t2020-12-27 22:50:50.000000 \tN/A\tDisabled\n",
      "940\t508\tsvchost.exe\t0xfa8004ddfab0\t17\t384\t0\tFalse\t2020-12-27 22:50:52.000000 \tN/A\tDisabled\n",
      "1248\t508\tsvchost.exe\t0xfa8004f19060\t19\t325\t0\tFalse\t2020-12-27 22:50:52.000000 \tN/A\tDisabled\n",
      "1408\t508\tsvchost.exe\t0xfa8004fd3b30\t22\t308\t0\tFalse\t2020-12-27 22:50:52.000000 \tN/A\tDisabled\n",
      "2632\t508\tsvchost.exe\t0xfa800547db30\t9\t349\t0\tFalse\t2020-12-27 22:51:00.000000 \tN/A\tDisabled\n",
      "2008\t508\tsvchost.exe\t0xfa80031d3060\t12\t317\t0\tFalse\t2020-12-27 22:52:56.000000 \tN/A\tDisabled\n"
     ]
    }
   ],
   "source": [
    "# 7. Установите, сколько различных процессов svchost.exe запускалось, \n",
    "# приведите идентификаторы запущенных процессов.\n",
    "\n",
    "!python3 volatility3/vol.py \\\n",
    "    --filters ImageFileName,svchost.exe \\\n",
    "    --file var-1.vmem \\\n",
    "    windows.pslist"
   ]
  },
  {
   "cell_type": "code",
   "execution_count": 23,
   "id": "d1251a23-13ea-4b6e-ac95-330e2f8e86f8",
   "metadata": {},
   "outputs": [],
   "source": [
    "# Ответ:\n",
    "# Всего 11 процессов с таким названием\n",
    "# PID 612, 700, 812, 852, 896, 296, 940, 1248, 1408, 2632, 2008"
   ]
  },
  {
   "cell_type": "code",
   "execution_count": 24,
   "id": "a25d1c05-05c5-455f-85be-ac2e1c5f9022",
   "metadata": {},
   "outputs": [
    {
     "name": "stdout",
     "output_type": "stream",
     "text": [
      "Volatility 3 Framework 2.7.0\n",
      "WARNING  volatility3.framework.layers.vmware: No metadata file found alongside VMEM file. A VMSS or VMSN file may be required to correctly process a VMEM file. These should be placed in the same directory with the same file name, e.g. var-1.vmem and var-1.vmss.\n",
      "Progress:  100.00\t\tPDB scanning finished                        \n",
      "PID\tPPID\tImageFileName\tOffset(V)\tThreads\tHandles\tSessionId\tWow64\tCreateTime\tExitTime\tAudit\tCmd\tPath\n",
      "\n",
      "** 896\t508\tsvchost.exe\t0xfa8004cc7b30\t40\t939\t0\tFalse\t2020-12-27 22:50:49.000000 \tN/A\t\\Device\\HarddiskVolume2\\Windows\\System32\\svchost.exe\tC:\\Windows\\system32\\svchost.exe -k netsvcs\tC:\\Windows\\system32\\svchost.exe\n",
      "** 1408\t508\tsvchost.exe\t0xfa8004fd3b30\t22\t308\t0\tFalse\t2020-12-27 22:50:52.000000 \tN/A\t\\Device\\HarddiskVolume2\\Windows\\System32\\svchost.exe\tC:\\Windows\\system32\\svchost.exe -k LocalServiceAndNoImpersonation\tC:\\Windows\\system32\\svchost.exe\n",
      "** 296\t508\tsvchost.exe\t0xfa8004cfdb30\t18\t759\t0\tFalse\t2020-12-27 22:50:50.000000 \tN/A\t\\Device\\HarddiskVolume2\\Windows\\System32\\svchost.exe\tC:\\Windows\\system32\\svchost.exe -k LocalService\tC:\\Windows\\system32\\svchost.exe\n",
      "** 812\t508\tsvchost.exe\t0xfa8004c5fb30\t23\t576\t0\tFalse\t2020-12-27 22:50:49.000000 \tN/A\t\\Device\\HarddiskVolume2\\Windows\\System32\\svchost.exe\tC:\\Windows\\System32\\svchost.exe -k LocalServiceNetworkRestricted\tC:\\Windows\\System32\\svchost.exe\n",
      "** 940\t508\tsvchost.exe\t0xfa8004ddfab0\t17\t384\t0\tFalse\t2020-12-27 22:50:52.000000 \tN/A\t\\Device\\HarddiskVolume2\\Windows\\System32\\svchost.exe\tC:\\Windows\\system32\\svchost.exe -k NetworkService\tC:\\Windows\\system32\\svchost.exe\n",
      "** 700\t508\tsvchost.exe\t0xfa8004bfa740\t6\t273\t0\tFalse\t2020-12-27 22:50:48.000000 \tN/A\t\\Device\\HarddiskVolume2\\Windows\\System32\\svchost.exe\tC:\\Windows\\system32\\svchost.exe -k RPCSS\tC:\\Windows\\system32\\svchost.exe\n",
      "** 2632\t508\tsvchost.exe\t0xfa800547db30\t9\t349\t0\tFalse\t2020-12-27 22:51:00.000000 \tN/A\t\\Device\\HarddiskVolume2\\Windows\\System32\\svchost.exe\tC:\\Windows\\System32\\svchost.exe -k LocalServicePeerNet\tC:\\Windows\\System32\\svchost.exe\n",
      "** 852\t508\tsvchost.exe\t0xfa8004cb0390\t26\t530\t0\tFalse\t2020-12-27 22:50:49.000000 \tN/A\t\\Device\\HarddiskVolume2\\Windows\\System32\\svchost.exe\tC:\\Windows\\System32\\svchost.exe -k LocalSystemNetworkRestricted\tC:\\Windows\\System32\\svchost.exe\n",
      "** 2008\t508\tsvchost.exe\t0xfa80031d3060\t12\t317\t0\tFalse\t2020-12-27 22:52:56.000000 \tN/A\t\\Device\\HarddiskVolume2\\Windows\\System32\\svchost.exe\tC:\\Windows\\System32\\svchost.exe -k secsvcs\tC:\\Windows\\System32\\svchost.exe\n",
      "** 1248\t508\tsvchost.exe\t0xfa8004f19060\t19\t325\t0\tFalse\t2020-12-27 22:50:52.000000 \tN/A\t\\Device\\HarddiskVolume2\\Windows\\System32\\svchost.exe\tC:\\Windows\\system32\\svchost.exe -k LocalServiceNoNetwork\tC:\\Windows\\system32\\svchost.exe\n",
      "** 612\t508\tsvchost.exe\t0xfa8004bf3610\t9\t350\t0\tFalse\t2020-12-27 22:50:46.000000 \tN/A\t\\Device\\HarddiskVolume2\\Windows\\System32\\svchost.exe\tC:\\Windows\\system32\\svchost.exe -k DcomLaunch\tC:\\Windows\\system32\\svchost.exe\n"
     ]
    }
   ],
   "source": [
    "# 8. Укажите имена исполняемых файлов, запустивших эти процессы.\n",
    "\n",
    "!python3 volatility3/vol.py \\\n",
    "    --filters ImageFileName,svchost.exe \\\n",
    "    --file var-1.vmem \\\n",
    "    windows.pstree"
   ]
  },
  {
   "cell_type": "code",
   "execution_count": 25,
   "id": "b40ccdea-c75a-4e7b-a20a-e41eb1990892",
   "metadata": {},
   "outputs": [
    {
     "name": "stdout",
     "output_type": "stream",
     "text": [
      "Volatility Foundation Volatility Framework 2.6.1\n",
      "svchost.exe pid:    612\n",
      "Command line : C:\\Windows\\system32\\svchost.exe -k DcomLaunch\n",
      "svchost.exe pid:    700\n",
      "Command line : C:\\Windows\\system32\\svchost.exe -k RPCSS\n",
      "svchost.exe pid:    812\n",
      "Command line : C:\\Windows\\System32\\svchost.exe -k LocalServiceNetworkRestricted\n",
      "svchost.exe pid:    852\n",
      "Command line : C:\\Windows\\System32\\svchost.exe -k LocalSystemNetworkRestricted\n",
      "svchost.exe pid:    896\n",
      "Command line : C:\\Windows\\system32\\svchost.exe -k netsvcs\n",
      "svchost.exe pid:    296\n",
      "Command line : C:\\Windows\\system32\\svchost.exe -k LocalService\n",
      "svchost.exe pid:    940\n",
      "Command line : C:\\Windows\\system32\\svchost.exe -k NetworkService\n",
      "svchost.exe pid:   1248\n",
      "Command line : C:\\Windows\\system32\\svchost.exe -k LocalServiceNoNetwork\n",
      "svchost.exe pid:   1408\n",
      "Command line : C:\\Windows\\system32\\svchost.exe -k LocalServiceAndNoImpersonation\n",
      "svchost.exe pid:   2632\n",
      "Command line : C:\\Windows\\System32\\svchost.exe -k LocalServicePeerNet\n",
      "svchost.exe pid:   2008\n",
      "Command line : C:\\Windows\\System32\\svchost.exe -k secsvcs\n"
     ]
    }
   ],
   "source": [
    "# Проверю эти данные в cmdline\n",
    "\n",
    "!python2.7 volatility/vol.py \\\n",
    "    --file var-1.vmem \\\n",
    "    --profile Win7SP1x64 \\\n",
    "    cmdline | grep -v \"Failed\" | grep svchost.exe"
   ]
  },
  {
   "cell_type": "code",
   "execution_count": 26,
   "id": "fb449c1b-f58a-4a63-b0ae-2d19f803278f",
   "metadata": {},
   "outputs": [],
   "source": [
    "# Ответ:\n",
    "# Все процессы svchost.exe были запущены из файла \n",
    "# C:\\Windows\\system32\\svchost.exe"
   ]
  },
  {
   "cell_type": "code",
   "execution_count": 27,
   "id": "249fbd9a-4493-432f-8d02-4c8debf37b94",
   "metadata": {},
   "outputs": [
    {
     "name": "stdout",
     "output_type": "stream",
     "text": [
      "Volatility 3 Framework 2.7.0\n",
      "WARNING  volatility3.framework.layers.vmware: No metadata file found alongside VMEM file. A VMSS or VMSN file may be required to correctly process a VMEM file. These should be placed in the same directory with the same file name, e.g. var-1.vmem and var-1.vmss.\n",
      "Progress:  100.00\t\tPDB scanning finished                        \n",
      "PID\tProcess\tStart VPN\tEnd VPN\tTag\tProtection\tCommitCharge\tPrivateMemory\tFile output\tNotes\tHexdump\tDisasm\n",
      "\n"
     ]
    }
   ],
   "source": [
    "# 9. Среди процессов, выявленных в пункте 7, определите те, которые \n",
    "# содержат признаки заражения.\n",
    "\n",
    "# PID 612 - Нет признаков заражения\n",
    "\n",
    "!python3 volatility3/vol.py \\\n",
    "    --file var-1.vmem \\\n",
    "    windows.malfind.Malfind \\\n",
    "    --pid 612"
   ]
  },
  {
   "cell_type": "code",
   "execution_count": 28,
   "id": "43160b90-09bc-437d-ab42-7f18a113bf28",
   "metadata": {},
   "outputs": [
    {
     "name": "stdout",
     "output_type": "stream",
     "text": [
      "Volatility 3 Framework 2.7.0\n",
      "WARNING  volatility3.framework.layers.vmware: No metadata file found alongside VMEM file. A VMSS or VMSN file may be required to correctly process a VMEM file. These should be placed in the same directory with the same file name, e.g. var-1.vmem and var-1.vmss.\n",
      "Progress:  100.00\t\tPDB scanning finished                        \n",
      "PID\tProcess\tStart VPN\tEnd VPN\tTag\tProtection\tCommitCharge\tPrivateMemory\tFile output\tNotes\tHexdump\tDisasm\n",
      "\n"
     ]
    }
   ],
   "source": [
    "# PID 700 - Нет признаков заражения\n",
    "\n",
    "!python3 volatility3/vol.py \\\n",
    "    --file var-1.vmem \\\n",
    "    windows.malfind.Malfind \\\n",
    "    --pid 700"
   ]
  },
  {
   "cell_type": "code",
   "execution_count": 29,
   "id": "c2d7f57b-b268-4c61-af80-f939eecf3350",
   "metadata": {},
   "outputs": [
    {
     "name": "stdout",
     "output_type": "stream",
     "text": [
      "Volatility 3 Framework 2.7.0\n",
      "WARNING  volatility3.framework.layers.vmware: No metadata file found alongside VMEM file. A VMSS or VMSN file may be required to correctly process a VMEM file. These should be placed in the same directory with the same file name, e.g. var-1.vmem and var-1.vmss.\n",
      "Progress:  100.00\t\tPDB scanning finished                        \n",
      "PID\tProcess\tStart VPN\tEnd VPN\tTag\tProtection\tCommitCharge\tPrivateMemory\tFile output\tNotes\tHexdump\tDisasm\n",
      "\n",
      "812\tsvchost.exe\t0x1430000\t0x143ffff\tVadS\tPAGE_EXECUTE_READWRITE\t16\t1\tDisabled\tN/A\t\n",
      "41 ba 80 00 00 00 48 b8\tA.....H.\n",
      "38 a1 13 ff fe 07 00 00\t8.......\n",
      "48 ff 20 90 41 ba 81 00\tH...A...\n",
      "00 00 48 b8 38 a1 13 ff\t..H.8...\n",
      "fe 07 00 00 48 ff 20 90\t....H...\n",
      "41 ba 82 00 00 00 48 b8\tA.....H.\n",
      "38 a1 13 ff fe 07 00 00\t8.......\n",
      "48 ff 20 90 41 ba 83 00\tH...A...\t\n",
      "0x1430000:\tmov\tr10d, 0x80\n",
      "0x1430006:\tmovabs\trax, 0x7feff13a138\n",
      "0x1430010:\tjmp\tqword ptr [rax]\n",
      "0x1430013:\tnop\t\n",
      "0x1430014:\tmov\tr10d, 0x81\n",
      "0x143001a:\tmovabs\trax, 0x7feff13a138\n",
      "0x1430024:\tjmp\tqword ptr [rax]\n",
      "0x1430027:\tnop\t\n",
      "0x1430028:\tmov\tr10d, 0x82\n",
      "0x143002e:\tmovabs\trax, 0x7feff13a138\n",
      "0x1430038:\tjmp\tqword ptr [rax]\n",
      "0x143003b:\tnop\t\n"
     ]
    }
   ],
   "source": [
    "# PID 812 - Есть признаки заражения\n",
    "\n",
    "!python3 volatility3/vol.py \\\n",
    "    --file var-1.vmem \\\n",
    "    windows.malfind.Malfind \\\n",
    "    --pid 812"
   ]
  },
  {
   "cell_type": "code",
   "execution_count": 30,
   "id": "cdd1b563-2298-4d51-8660-b91cb841ef38",
   "metadata": {},
   "outputs": [
    {
     "name": "stdout",
     "output_type": "stream",
     "text": [
      "Volatility 3 Framework 2.7.0\n",
      "WARNING  volatility3.framework.layers.vmware: No metadata file found alongside VMEM file. A VMSS or VMSN file may be required to correctly process a VMEM file. These should be placed in the same directory with the same file name, e.g. var-1.vmem and var-1.vmss.\n",
      "Progress:  100.00\t\tPDB scanning finished                        \n",
      "PID\tProcess\tStart VPN\tEnd VPN\tTag\tProtection\tCommitCharge\tPrivateMemory\tFile output\tNotes\tHexdump\tDisasm\n",
      "\n"
     ]
    }
   ],
   "source": [
    "# PID 852 - Нет признаков заражения\n",
    "\n",
    "!python3 volatility3/vol.py \\\n",
    "    --file var-1.vmem \\\n",
    "    windows.malfind.Malfind \\\n",
    "    --pid 852"
   ]
  },
  {
   "cell_type": "code",
   "execution_count": 31,
   "id": "c3928d6c-aba9-4c3d-bceb-5777e857380b",
   "metadata": {},
   "outputs": [
    {
     "name": "stdout",
     "output_type": "stream",
     "text": [
      "Volatility 3 Framework 2.7.0\n",
      "WARNING  volatility3.framework.layers.vmware: No metadata file found alongside VMEM file. A VMSS or VMSN file may be required to correctly process a VMEM file. These should be placed in the same directory with the same file name, e.g. var-1.vmem and var-1.vmss.\n",
      "Progress:  100.00\t\tPDB scanning finished                        \n",
      "PID\tProcess\tStart VPN\tEnd VPN\tTag\tProtection\tCommitCharge\tPrivateMemory\tFile output\tNotes\tHexdump\tDisasm\n",
      "\n"
     ]
    }
   ],
   "source": [
    "# PID 896 - Нет признаков заражения\n",
    "\n",
    "!python3 volatility3/vol.py \\\n",
    "    --file var-1.vmem \\\n",
    "    windows.malfind.Malfind \\\n",
    "    --pid 896"
   ]
  },
  {
   "cell_type": "code",
   "execution_count": 32,
   "id": "ad499829-195b-48aa-8122-fdb9404ac4d8",
   "metadata": {},
   "outputs": [
    {
     "name": "stdout",
     "output_type": "stream",
     "text": [
      "Volatility 3 Framework 2.7.0\n",
      "WARNING  volatility3.framework.layers.vmware: No metadata file found alongside VMEM file. A VMSS or VMSN file may be required to correctly process a VMEM file. These should be placed in the same directory with the same file name, e.g. var-1.vmem and var-1.vmss.\n",
      "Progress:  100.00\t\tPDB scanning finished                        \n",
      "PID\tProcess\tStart VPN\tEnd VPN\tTag\tProtection\tCommitCharge\tPrivateMemory\tFile output\tNotes\tHexdump\tDisasm\n",
      "\n",
      "296\tsvchost.exe\t0xeb0000\t0xebffff\tVadS\tPAGE_EXECUTE_READWRITE\t16\t1\tDisabled\tN/A\t\n",
      "41 ba 80 00 00 00 48 b8\tA.....H.\n",
      "38 a1 13 ff fe 07 00 00\t8.......\n",
      "48 ff 20 90 41 ba 81 00\tH...A...\n",
      "00 00 48 b8 38 a1 13 ff\t..H.8...\n",
      "fe 07 00 00 48 ff 20 90\t....H...\n",
      "41 ba 82 00 00 00 48 b8\tA.....H.\n",
      "38 a1 13 ff fe 07 00 00\t8.......\n",
      "48 ff 20 90 41 ba 83 00\tH...A...\t\n",
      "0xeb0000:\tmov\tr10d, 0x80\n",
      "0xeb0006:\tmovabs\trax, 0x7feff13a138\n",
      "0xeb0010:\tjmp\tqword ptr [rax]\n",
      "0xeb0013:\tnop\t\n",
      "0xeb0014:\tmov\tr10d, 0x81\n",
      "0xeb001a:\tmovabs\trax, 0x7feff13a138\n",
      "0xeb0024:\tjmp\tqword ptr [rax]\n",
      "0xeb0027:\tnop\t\n",
      "0xeb0028:\tmov\tr10d, 0x82\n",
      "0xeb002e:\tmovabs\trax, 0x7feff13a138\n",
      "0xeb0038:\tjmp\tqword ptr [rax]\n",
      "0xeb003b:\tnop\t\n"
     ]
    }
   ],
   "source": [
    "# PID 296 - Есть признаки заражения\n",
    "\n",
    "!python3 volatility3/vol.py \\\n",
    "    --file var-1.vmem \\\n",
    "    windows.malfind.Malfind \\\n",
    "    --pid 296"
   ]
  },
  {
   "cell_type": "code",
   "execution_count": 33,
   "id": "7669fa6f-4659-4df1-b230-231e29a1c7ef",
   "metadata": {},
   "outputs": [
    {
     "name": "stdout",
     "output_type": "stream",
     "text": [
      "Volatility 3 Framework 2.7.0\n",
      "WARNING  volatility3.framework.layers.vmware: No metadata file found alongside VMEM file. A VMSS or VMSN file may be required to correctly process a VMEM file. These should be placed in the same directory with the same file name, e.g. var-1.vmem and var-1.vmss.\n",
      "Progress:  100.00\t\tPDB scanning finished                        \n",
      "PID\tProcess\tStart VPN\tEnd VPN\tTag\tProtection\tCommitCharge\tPrivateMemory\tFile output\tNotes\tHexdump\tDisasm\n",
      "\n"
     ]
    }
   ],
   "source": [
    "# PID 940 - Нет признаков заражения\n",
    "\n",
    "!python3 volatility3/vol.py \\\n",
    "    --file var-1.vmem \\\n",
    "    windows.malfind.Malfind \\\n",
    "    --pid 940"
   ]
  },
  {
   "cell_type": "code",
   "execution_count": 34,
   "id": "2ba4cd8a-6f69-4a37-a255-129322f58bf1",
   "metadata": {},
   "outputs": [
    {
     "name": "stdout",
     "output_type": "stream",
     "text": [
      "Volatility 3 Framework 2.7.0\n",
      "WARNING  volatility3.framework.layers.vmware: No metadata file found alongside VMEM file. A VMSS or VMSN file may be required to correctly process a VMEM file. These should be placed in the same directory with the same file name, e.g. var-1.vmem and var-1.vmss.\n",
      "Progress:  100.00\t\tPDB scanning finished                        \n",
      "PID\tProcess\tStart VPN\tEnd VPN\tTag\tProtection\tCommitCharge\tPrivateMemory\tFile output\tNotes\tHexdump\tDisasm\n",
      "\n"
     ]
    }
   ],
   "source": [
    "# PID 1248 - Нет признаков заражения\n",
    "\n",
    "!python3 volatility3/vol.py \\\n",
    "    --file var-1.vmem \\\n",
    "    windows.malfind.Malfind \\\n",
    "    --pid 1248"
   ]
  },
  {
   "cell_type": "code",
   "execution_count": 35,
   "id": "d487c2dd-823f-48f6-9167-b0abd6b36c1d",
   "metadata": {},
   "outputs": [
    {
     "name": "stdout",
     "output_type": "stream",
     "text": [
      "Volatility 3 Framework 2.7.0\n",
      "WARNING  volatility3.framework.layers.vmware: No metadata file found alongside VMEM file. A VMSS or VMSN file may be required to correctly process a VMEM file. These should be placed in the same directory with the same file name, e.g. var-1.vmem and var-1.vmss.\n",
      "Progress:  100.00\t\tPDB scanning finished                        \n",
      "PID\tProcess\tStart VPN\tEnd VPN\tTag\tProtection\tCommitCharge\tPrivateMemory\tFile output\tNotes\tHexdump\tDisasm\n",
      "\n"
     ]
    }
   ],
   "source": [
    "# PID 1408 - Нет признаков заражения\n",
    "\n",
    "!python3 volatility3/vol.py \\\n",
    "    --file var-1.vmem \\\n",
    "    windows.malfind.Malfind \\\n",
    "    --pid 1408"
   ]
  },
  {
   "cell_type": "code",
   "execution_count": 36,
   "id": "bceca326-a5db-43c0-9335-ffe6e4021319",
   "metadata": {},
   "outputs": [
    {
     "name": "stdout",
     "output_type": "stream",
     "text": [
      "Volatility 3 Framework 2.7.0\n",
      "WARNING  volatility3.framework.layers.vmware: No metadata file found alongside VMEM file. A VMSS or VMSN file may be required to correctly process a VMEM file. These should be placed in the same directory with the same file name, e.g. var-1.vmem and var-1.vmss.\n",
      "Progress:  100.00\t\tPDB scanning finished                        \n",
      "PID\tProcess\tStart VPN\tEnd VPN\tTag\tProtection\tCommitCharge\tPrivateMemory\tFile output\tNotes\tHexdump\tDisasm\n",
      "\n"
     ]
    }
   ],
   "source": [
    "# PID 2362 - Нет признаков заражения\n",
    "\n",
    "!python3 volatility3/vol.py \\\n",
    "    --file var-1.vmem \\\n",
    "    windows.malfind.Malfind \\\n",
    "    --pid 2632"
   ]
  },
  {
   "cell_type": "code",
   "execution_count": 37,
   "id": "58c2b8a3-b4a6-443d-bcce-b9d41701c495",
   "metadata": {},
   "outputs": [
    {
     "name": "stdout",
     "output_type": "stream",
     "text": [
      "Volatility 3 Framework 2.7.0\n",
      "WARNING  volatility3.framework.layers.vmware: No metadata file found alongside VMEM file. A VMSS or VMSN file may be required to correctly process a VMEM file. These should be placed in the same directory with the same file name, e.g. var-1.vmem and var-1.vmss.\n",
      "Progress:  100.00\t\tPDB scanning finished                        \n",
      "PID\tProcess\tStart VPN\tEnd VPN\tTag\tProtection\tCommitCharge\tPrivateMemory\tFile output\tNotes\tHexdump\tDisasm\n",
      "\n",
      "2008\tsvchost.exe\t0x2600000\t0x267ffff\tVadS\tPAGE_EXECUTE_READWRITE\t128\t1\tDisabled\tN/A\t\n",
      "20 00 00 00 e0 ff 07 00\t........\n",
      "0c 00 00 00 01 00 05 00\t........\n",
      "00 42 00 50 00 30 00 70\t.B.P.0.p\n",
      "00 60 00 00 00 00 00 00\t.`......\n",
      "48 8b 45 28 c7 00 00 00\tH.E(....\n",
      "00 00 c7 40 04 00 00 00\t...@....\n",
      "00 48 8b 45 28 48 8d 40\t.H.E(H.@\n",
      "08 48 89 c2 48 8b 45 20\t.H..H.E.\t\n",
      "0x2600000:\tand\tbyte ptr [rax], al\n",
      "0x2600002:\tadd\tbyte ptr [rax], al\n",
      "0x2600004:\tloopne\t0x2600005\n",
      "2008\tsvchost.exe\t0x4ea0000\t0x4f9ffff\tVadS\tPAGE_EXECUTE_READWRITE\t256\t1\tDisabled\tN/A\t\n",
      "20 00 00 00 e0 ff 0f 00\t........\n",
      "0c 00 00 00 01 00 05 00\t........\n",
      "00 42 00 50 00 30 00 70\t.B.P.0.p\n",
      "00 60 00 00 00 00 00 00\t.`......\n",
      "ba fc ff ff ff 03 55 20\t......U.\n",
      "03 55 5c b9 04 00 1a 00\t.U\\.....\n",
      "4c 8b c5 ff 95 e0 37 00\tL.....7.\n",
      "00 8b 4d 24 89 08 48 8d\t..M$..H.\t\n",
      "0x4ea0000:\tand\tbyte ptr [rax], al\n",
      "0x4ea0002:\tadd\tbyte ptr [rax], al\n",
      "0x4ea0004:\tloopne\t0x4ea0005\n",
      "0x4ea0006:\tstr\tword ptr [rax + rax]\n",
      "0x4ea000a:\tadd\tbyte ptr [rax], al\n",
      "0x4ea000c:\tadd\tdword ptr [rax], eax\n",
      "0x4ea000e:\tadd\teax, 0x420000\n",
      "0x4ea0013:\tpush\trax\n",
      "0x4ea0014:\tadd\tbyte ptr [rax], dh\n",
      "0x4ea0016:\tadd\tbyte ptr [rax], dh\n"
     ]
    }
   ],
   "source": [
    "# PID 2008 - Есть признаки заражения\n",
    "\n",
    "!python3 volatility3/vol.py \\\n",
    "    --file var-1.vmem \\\n",
    "    windows.malfind.Malfind \\\n",
    "    --pid 2008"
   ]
  },
  {
   "cell_type": "code",
   "execution_count": 38,
   "id": "d1af0b56-d6d4-4f7f-8525-0bba07f9c314",
   "metadata": {},
   "outputs": [
    {
     "name": "stdout",
     "output_type": "stream",
     "text": [
      "Volatility Foundation Volatility Framework 2.6.1\n",
      "**************************************************\n",
      "ConsoleProcess: conhost.exe Pid: 2488\n",
      "Console: 0xffa66200 CommandHistorySize: 50\n",
      "HistoryBufferCount: 1 HistoryBufferMax: 4\n",
      "OriginalTitle: %SystemRoot%\\System32\\cmd.exe\n",
      "Title: Administrator: C:\\Windows\\System32\\cmd.exe\n",
      "AttachedProcess: cmd.exe Pid: 1920 Handle: 0x60\n",
      "----\n",
      "CommandHistory: 0x21e9c0 Application: cmd.exe Flags: Allocated, Reset\n",
      "CommandCount: 7 LastAdded: 6 LastDisplayed: 6\n",
      "FirstCommand: 0 CommandCountMax: 50\n",
      "ProcessHandle: 0x60\n",
      "Cmd #0 at 0x1fe3a0: cd /\n",
      "Cmd #1 at 0x1f78b0: echo THM{You_found_me} > test.txt\n",
      "Cmd #2 at 0x21dcf0: cls\n",
      "Cmd #3 at 0x1fe3c0: cd /Users\n",
      "Cmd #4 at 0x1fe3e0: cd /John\n",
      "Cmd #5 at 0x21db30: dir\n",
      "Cmd #6 at 0x1fe400: cd John\n",
      "----\n",
      "Screen 0x200f70 X:80 Y:300\n",
      "Dump:\n",
      "                                                                                \n",
      "C:\\>cd /Users                                                                   \n",
      "                                                                                \n",
      "C:\\Users>cd /John                                                               \n",
      "The system cannot find the path specified.                                      \n",
      "                                                                                \n",
      "C:\\Users>dir                                                                    \n",
      " Volume in drive C has no label.                                                \n",
      " Volume Serial Number is 1602-421F                                              \n",
      "                                                                                \n",
      " Directory of C:\\Users                                                          \n",
      "                                                                                \n",
      "12/27/2020  02:20 AM    <DIR>          .                                        \n",
      "12/27/2020  02:20 AM    <DIR>          ..                                       \n",
      "12/27/2020  02:21 AM    <DIR>          John                                     \n",
      "04/12/2011  08:45 AM    <DIR>          Public                                   \n",
      "               0 File(s)              0 bytes                                   \n",
      "               4 Dir(s)  54,565,433,344 bytes free                              \n",
      "                                                                                \n",
      "C:\\Users>cd John                                                                \n",
      "                                                                                \n",
      "C:\\Users\\John>                                                                  \n"
     ]
    }
   ],
   "source": [
    "# 10. Установите, какое сообщение написал Джон в командной строке \n",
    "# в ходе сеанса, в момент которого был создан дамп.\n",
    "\n",
    "!python2.7 volatility/vol.py \\\n",
    "    --file var-1.vmem \\\n",
    "    --profile Win7SP1x64 \\\n",
    "    consoles | grep -v \"Failed\""
   ]
  },
  {
   "cell_type": "code",
   "execution_count": 39,
   "id": "33a315b7-35b9-47a5-a175-2bb6b5a9d4c7",
   "metadata": {},
   "outputs": [],
   "source": [
    "# Ответ:\n",
    "# Cmd #0 at 0x1fe3a0: cd /\n",
    "# Cmd #1 at 0x1f78b0: echo THM{You_found_me} > test.txt\n",
    "# Cmd #2 at 0x21dcf0: cls\n",
    "# Cmd #3 at 0x1fe3c0: cd /Users\n",
    "# Cmd #4 at 0x1fe3e0: cd /John\n",
    "# Cmd #5 at 0x21db30: dir\n",
    "# Cmd #6 at 0x1fe400: cd John"
   ]
  }
 ],
 "metadata": {
  "kernelspec": {
   "display_name": "Python 3 (ipykernel)",
   "language": "python",
   "name": "python3"
  },
  "language_info": {
   "codemirror_mode": {
    "name": "ipython",
    "version": 3
   },
   "file_extension": ".py",
   "mimetype": "text/x-python",
   "name": "python",
   "nbconvert_exporter": "python",
   "pygments_lexer": "ipython3",
   "version": "3.11.2"
  }
 },
 "nbformat": 4,
 "nbformat_minor": 5
}
