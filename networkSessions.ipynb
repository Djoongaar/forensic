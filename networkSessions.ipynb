{
 "cells": [
  {
   "cell_type": "markdown",
   "id": "64c4fa64",
   "metadata": {},
   "source": [
    "### Домашняя работа №2\n",
    "### Анализ записи сетевой активности.\n",
    "### Шараев Евгений"
   ]
  },
  {
   "cell_type": "markdown",
   "id": "d3b04871",
   "metadata": {},
   "source": [
    "Задание к варианту 1.\n",
    "\n",
    " 1. Каков IP-адрес зараженного узла?\n",
    " 2. Каков MAC-адрес зараженного узла?\n",
    " 3. Каково доменное имя зараженного узла?\n",
    " 4. Какие сайты посетил пользователь зараженного устройства по своему желанию?\n",
    " 5. Посещение каких сайтов зафиксировано в сетевом трафике?\n",
    " 6. Каково доменное имя сайта, с которого произошла загрузка вредоносного программного обеспечения?\n",
    " 7. Каков IP-адрес узла, с которого произошла загрузка вредоносного программного обеспечения?\n",
    " 8. Загружались ли пользователем или системой без ведома пользователя файлы, не являющиеся вредоносными?\n",
    " 9. Какие сайты (доменные имена) задействованы в заражении пользователя вредоносным программным обеспечением (имеют следы вредоносной активности, участвуют во вредоносных действиях)?\n",
    " 10. Каков механизм переходов (перенаправлений) пользователя с посещенных сайтов на сайт, с которого было загружено вредоносное программное обеспечение?"
   ]
  },
  {
   "cell_type": "code",
   "execution_count": 1,
   "id": "43057703",
   "metadata": {},
   "outputs": [
    {
     "name": "stdout",
     "output_type": "stream",
     "text": [
      "reading from file var1.pcap, link-type EN10MB (Ethernet), snapshot length 65535\r\n",
      "3053 packets\r\n"
     ]
    }
   ],
   "source": [
    "# Поисследую дамп сетевого трафика утилитой tcpdump\n",
    "\n",
    "# Всего в дампе 3053 перехваченных пакета\n",
    "!tcpdump -r var1.pcap --count"
   ]
  },
  {
   "cell_type": "code",
   "execution_count": 2,
   "id": "eac5b3f3",
   "metadata": {
    "scrolled": false
   },
   "outputs": [
    {
     "name": "stdout",
     "output_type": "stream",
     "text": [
      "reading from file var1.pcap, link-type EN10MB (Ethernet), snapshot length 65535\r\n",
      "10:11:49.324203 IP (tos 0x0, ttl 128, id 482, offset 0, flags [none], proto TCP (6), length 44)\r\n",
      "    a-0001.a-msedge.net.http > 172.16.165.165.49433: Flags [S.], cksum 0x21c9 (correct), seq 541339948, ack 922766772, win 64240, options [mss 1460], length 0\r\n",
      "10:11:49.324203 IP (tos 0x0, ttl 128, id 483, offset 0, flags [none], proto TCP (6), length 44)\r\n",
      "    a-0001.a-msedge.net.http > 172.16.165.165.49432: Flags [S.], cksum 0x4136 (correct), seq 2110835290, ack 2460277736, win 64240, options [mss 1460], length 0\r\n",
      "10:11:49.425739 IP (tos 0x0, ttl 128, id 484, offset 0, flags [none], proto TCP (6), length 44)\r\n",
      "    a-0001.a-msedge.net.http > 172.16.165.165.49433: Flags [S.], cksum 0x21c9 (correct), seq 541339948, ack 922766772, win 64240, options [mss 1460], length 0\r\n",
      "10:11:49.425740 IP (tos 0x0, ttl 128, id 485, offset 0, flags [none], proto TCP (6), length 44)\r\n",
      "    a-0001.a-msedge.net.http > 172.16.165.165.49432: Flags [S.], cksum 0x4136 (correct), seq 2110835290, ack 2460277736, win 64240, options [mss 1460], length 0\r\n",
      "10:11:49.530499 IP (tos 0x0, ttl 128, id 486, offset 0, flags [none], proto TCP (6), length 44)\r\n",
      "    a-0001.a-msedge.net.http > 172.16.165.165.49433: Flags [S.], cksum 0x21c9 (correct), seq 541339948, ack 922766772, win 64240, options [mss 1460], length 0\r\n",
      "tcpdump: Unable to write output: Broken pipe\r\n"
     ]
    }
   ],
   "source": [
    "# Самый первый пакет в дампе был в 10:11:49.324203\n",
    "\n",
    "!tcpdump -r var1.pcap -v | head"
   ]
  },
  {
   "cell_type": "code",
   "execution_count": 3,
   "id": "9a692b2c",
   "metadata": {
    "scrolled": false
   },
   "outputs": [
    {
     "name": "stdout",
     "output_type": "stream",
     "text": [
      "reading from file var1.pcap, link-type EN10MB (Ethernet), snapshot length 65535\n",
      "    172.16.165.165.netbios-ns > 172.16.165.2.netbios-ns: UDP, length 68\n",
      "10:22:41.061276 ARP, Ethernet (len 6), IPv4 (len 4), Request who-has 172.16.165.162 tell 172.16.165.2, length 46\n",
      "10:22:42.512632 ARP, Ethernet (len 6), IPv4 (len 4), Request who-has 172.16.165.2 tell 172.16.165.165, length 28\n",
      "10:22:42.512776 ARP, Ethernet (len 6), IPv4 (len 4), Reply 172.16.165.2 is-at 00:50:56:f3:ca:52 (oui Unknown), length 46\n",
      "10:22:42.512791 IP (tos 0x0, ttl 128, id 5992, offset 0, flags [none], proto UDP (17), length 96)\n",
      "    172.16.165.165.netbios-ns > 172.16.165.2.netbios-ns: UDP, length 68\n",
      "10:22:44.012703 IP (tos 0x0, ttl 128, id 5993, offset 0, flags [DF], proto UDP (17), length 96)\n",
      "    172.16.165.165.netbios-ns > 172.16.165.2.netbios-ns: UDP, length 68\n",
      "10:22:45.512676 IP (tos 0x0, ttl 128, id 5994, offset 0, flags [DF], proto UDP (17), length 96)\n",
      "    172.16.165.165.netbios-ns > 172.16.165.2.netbios-ns: UDP, length 68\n"
     ]
    }
   ],
   "source": [
    "# Ну а самый последний в 10:22:45.512676\n",
    "\n",
    "!tcpdump -r var1.pcap -v | tail"
   ]
  },
  {
   "cell_type": "code",
   "execution_count": 4,
   "id": "7ced183a",
   "metadata": {
    "scrolled": false
   },
   "outputs": [
    {
     "name": "stdout",
     "output_type": "stream",
     "text": [
      "reading from file var1.pcap, link-type EN10MB (Ethernet), snapshot length 65535\r\n",
      "591 packets\r\n"
     ]
    }
   ],
   "source": [
    "# По https было перехвачено 591 пакет\n",
    "\n",
    "!tcpdump 'tcp port 443' -r var1.pcap --count"
   ]
  },
  {
   "cell_type": "code",
   "execution_count": 5,
   "id": "46bb6d42",
   "metadata": {},
   "outputs": [
    {
     "name": "stdout",
     "output_type": "stream",
     "text": [
      "reading from file var1.pcap, link-type EN10MB (Ethernet), snapshot length 65535\r\n",
      "2360 packets\r\n"
     ]
    }
   ],
   "source": [
    "# По http на порт 80 было перехвачено 2360 пакетов\n",
    "\n",
    "!tcpdump 'tcp port 80' -r var1.pcap --count"
   ]
  },
  {
   "cell_type": "code",
   "execution_count": 6,
   "id": "808be6d0",
   "metadata": {},
   "outputs": [
    {
     "name": "stdout",
     "output_type": "stream",
     "text": [
      "reading from file var1.pcap, link-type EN10MB (Ethernet), snapshot length 65535\r\n",
      "2951 packets\r\n"
     ]
    }
   ],
   "source": [
    "# Сколько всего пакетов по ТСР протоколу\n",
    "\n",
    "!tcpdump 'tcp' -r var1.pcap --count"
   ]
  },
  {
   "cell_type": "code",
   "execution_count": 7,
   "id": "20df0b9d",
   "metadata": {},
   "outputs": [
    {
     "data": {
      "text/plain": [
       "True"
      ]
     },
     "execution_count": 7,
     "metadata": {},
     "output_type": "execute_result"
    }
   ],
   "source": [
    "# ТСР запросы либо на port 80 либо на 443. Картинка сложилась\n",
    "\n",
    "bool(2360 + 591 == 2951)"
   ]
  },
  {
   "cell_type": "code",
   "execution_count": 8,
   "id": "b85e553a",
   "metadata": {
    "scrolled": false
   },
   "outputs": [
    {
     "name": "stdout",
     "output_type": "stream",
     "text": [
      "reading from file var1.pcap, link-type EN10MB (Ethernet), snapshot length 65535\r\n",
      "336 packets\r\n"
     ]
    }
   ],
   "source": [
    "# Посмотрим сколько TCP пакетов с флагом SYN было перехвачено\n",
    "# 336 пакетов\n",
    "\n",
    "!tcpdump 'tcp[tcpflags] & (tcp-syn) != 0' -r var1.pcap --count"
   ]
  },
  {
   "cell_type": "code",
   "execution_count": 9,
   "id": "445b1392",
   "metadata": {},
   "outputs": [
    {
     "name": "stdout",
     "output_type": "stream",
     "text": [
      "reading from file var1.pcap, link-type EN10MB (Ethernet), snapshot length 65535\r\n",
      "2929 packets\r\n"
     ]
    }
   ],
   "source": [
    "# Посмотрим сколько TCP пакетов с флагом ACK было перехвачено\n",
    "# 336 пакетов\n",
    "\n",
    "!tcpdump 'tcp[tcpflags] & (tcp-ack) != 0' -r var1.pcap --count"
   ]
  },
  {
   "cell_type": "code",
   "execution_count": 10,
   "id": "58de25a8",
   "metadata": {
    "scrolled": false
   },
   "outputs": [
    {
     "name": "stdout",
     "output_type": "stream",
     "text": [
      "reading from file var1.pcap, link-type EN10MB (Ethernet), snapshot length 65535\r\n"
     ]
    }
   ],
   "source": [
    "# Посмотрим на их IP адресации в этих пакетах\n",
    "# Грепну айпишники между двух подстрок \"IP\" и \">\"\n",
    "# а затем засуну в пандас датафрейм\n",
    "\n",
    "!tcpdump 'tcp[tcpflags] & (tcp-syn) != 0' -r var1.pcap -nq | grep -o -P '(?<=IP).*(?=>)' > ipaddr.txt"
   ]
  },
  {
   "cell_type": "code",
   "execution_count": 11,
   "id": "ce89461e",
   "metadata": {},
   "outputs": [
    {
     "name": "stdout",
     "output_type": "stream",
     "text": [
      " 204.79.197.200.80 \r\n",
      " 204.79.197.200.80 \r\n",
      " 204.79.197.200.80 \r\n",
      " 204.79.197.200.80 \r\n",
      " 204.79.197.200.80 \r\n"
     ]
    }
   ],
   "source": [
    "# Получили файл где в столбик все афпишники\n",
    "# Вот первые 5 строк содержимого файла\n",
    "\n",
    "!cat ipaddr.txt | head -n 5"
   ]
  },
  {
   "cell_type": "code",
   "execution_count": 12,
   "id": "07767c8c",
   "metadata": {
    "scrolled": false
   },
   "outputs": [
    {
     "data": {
      "text/html": [
       "<div>\n",
       "<style scoped>\n",
       "    .dataframe tbody tr th:only-of-type {\n",
       "        vertical-align: middle;\n",
       "    }\n",
       "\n",
       "    .dataframe tbody tr th {\n",
       "        vertical-align: top;\n",
       "    }\n",
       "\n",
       "    .dataframe thead th {\n",
       "        text-align: right;\n",
       "    }\n",
       "</style>\n",
       "<table border=\"1\" class=\"dataframe\">\n",
       "  <thead>\n",
       "    <tr style=\"text-align: right;\">\n",
       "      <th></th>\n",
       "      <th>0</th>\n",
       "    </tr>\n",
       "  </thead>\n",
       "  <tbody>\n",
       "    <tr>\n",
       "      <th>0</th>\n",
       "      <td>204.79.197.200.80</td>\n",
       "    </tr>\n",
       "    <tr>\n",
       "      <th>1</th>\n",
       "      <td>204.79.197.200.80</td>\n",
       "    </tr>\n",
       "    <tr>\n",
       "      <th>2</th>\n",
       "      <td>204.79.197.200.80</td>\n",
       "    </tr>\n",
       "    <tr>\n",
       "      <th>3</th>\n",
       "      <td>204.79.197.200.80</td>\n",
       "    </tr>\n",
       "    <tr>\n",
       "      <th>4</th>\n",
       "      <td>204.79.197.200.80</td>\n",
       "    </tr>\n",
       "  </tbody>\n",
       "</table>\n",
       "</div>"
      ],
      "text/plain": [
       "                   0\n",
       "0  204.79.197.200.80\n",
       "1  204.79.197.200.80\n",
       "2  204.79.197.200.80\n",
       "3  204.79.197.200.80\n",
       "4  204.79.197.200.80"
      ]
     },
     "execution_count": 12,
     "metadata": {},
     "output_type": "execute_result"
    }
   ],
   "source": [
    "import pandas as pd\n",
    "\n",
    "with open('ipaddr.txt', 'r') as file:\n",
    "    ipaddresses = [line.strip() for line in file]\n",
    "\n",
    "# Собрали айпишники в столбик датафрейма\n",
    "\n",
    "df = pd.DataFrame(data=ipaddresses)\n",
    "df.head()"
   ]
  },
  {
   "cell_type": "code",
   "execution_count": 13,
   "id": "1926ae7d",
   "metadata": {},
   "outputs": [
    {
     "data": {
      "text/plain": [
       "0                   \n",
       "204.79.197.200.80       292\n",
       "82.150.140.30.80          6\n",
       "37.200.69.143.80          6\n",
       "74.125.233.96.443         4\n",
       "188.225.73.100.80         2\n",
       "172.16.165.165.49452      1\n",
       "74.125.233.96.80          1\n",
       "74.125.233.100.443        1\n",
       "204.79.197.200.443        1\n",
       "185.53.178.9.80           1\n",
       "Name: count, dtype: int64"
      ]
     },
     "execution_count": 13,
     "metadata": {},
     "output_type": "execute_result"
    }
   ],
   "source": [
    "# Аггрегирую данные и смотрю статистику\n",
    "# Вижу что айпи адрес 204.79.197.200.80 подозрительно чаще\n",
    "# фигурирует в отчете\n",
    "\n",
    "df.value_counts().head(10)"
   ]
  },
  {
   "cell_type": "code",
   "execution_count": 14,
   "id": "20399608",
   "metadata": {},
   "outputs": [
    {
     "name": "stdout",
     "output_type": "stream",
     "text": [
      "total 1052644\r\n",
      "-rw-r--r--  1 evgeny evgeny          0 May 22 18:44 3052\r\n",
      "-rw-r--r--  1 evgeny evgeny          0 May 22 18:44 3053\r\n",
      "drwxr-xr-x 14 evgeny evgeny       4096 Apr 11 17:06 distorm\r\n",
      "drwxr-xr-x 14 evgeny evgeny       4096 Apr 11 17:14 distorm3\r\n",
      "drwxr-xr-x  7 evgeny evgeny       4096 Apr  2 11:13 env\r\n",
      "-rw-r--r--  1 evgeny evgeny       6773 May 22 20:10 ipaddr.txt\r\n",
      "-rw-r--r--  1 evgeny evgeny      24757 May 22 20:10 networkSessions.ipynb\r\n",
      "-rw-r--r--  1 evgeny evgeny     548810 Apr 12 12:42 sharaev_evgeny_hw2_2.pdf\r\n",
      "-rw-r--r--  1 evgeny evgeny      65119 May 22 18:19 sharaev_evgeny_hw2.ipynb\r\n",
      "-rw-r--r--  1 evgeny evgeny     509680 Apr 12 12:42 sharaev_evgeny_hw2.pdf\r\n",
      "-rw-r--r--  1 evgeny evgeny          0 May 22 19:56 traffic.csv\r\n",
      "-rw-r--r--  1 root   root       417512 May 22 20:01 var1.csv\r\n",
      "-rw-r--r--  1 evgeny evgeny    2551397 May 22 17:19 var1.pcap\r\n",
      "-rw-r--r--  1 evgeny evgeny 1073741824 May 25  2023 var-1.vmem\r\n",
      "-rw-r--r--  1 evgeny evgeny        652 May 22 18:50 var2.pcap\r\n",
      "drwxr-xr-x  8 evgeny evgeny       4096 Apr 11 16:10 volatility\r\n",
      "drwxr-xr-x  8 evgeny evgeny       4096 Apr  2 10:17 volatility3\r\n"
     ]
    }
   ],
   "source": [
    "# Посмотрим статистику вообще по всем флагам TCP\n",
    "# для этого я воспользовался инструментом экспорта \n",
    "# дампа pcap в формат csv для более удобной аналитики и статистики\n",
    "\n",
    "# !sudo wireshark -r var1.pcap\n",
    "\n",
    "# [sudo] password for evgeny:  ** (wireshark:432543) 20:00:00.182442 [GUI WARNING] \n",
    "# -- QStandardPaths: XDG_RUNTIME_DIR not set, defaulting to '/tmp/runtime-root'\n",
    "\n",
    "# на выходе получил файл var1.csv\n",
    "!ls -l"
   ]
  },
  {
   "cell_type": "code",
   "execution_count": 15,
   "id": "159e4ea0",
   "metadata": {},
   "outputs": [
    {
     "name": "stdout",
     "output_type": "stream",
     "text": [
      "\"No.\",\"Time\",\"Source\",\"Destination\",\"Protocol\",\"Length\",\"Info\"\r\n",
      "\"1\",\"0.000000\",\"204.79.197.200\",\"172.16.165.165\",\"TCP\",\"60\",\"80  >  49433 [SYN, ACK] Seq=0 Ack=1 Win=64240 Len=0 MSS=1460\"\r\n",
      "\"2\",\"0.000000\",\"204.79.197.200\",\"172.16.165.165\",\"TCP\",\"60\",\"80  >  49432 [SYN, ACK] Seq=0 Ack=1 Win=64240 Len=0 MSS=1460\"\r\n",
      "\"3\",\"0.101536\",\"204.79.197.200\",\"172.16.165.165\",\"TCP\",\"60\",\"[TCP Retransmission] 80  >  49433 [SYN, ACK] Seq=0 Ack=1 Win=64240 Len=0 MSS=1460\"\r\n",
      "\"4\",\"0.101537\",\"204.79.197.200\",\"172.16.165.165\",\"TCP\",\"60\",\"[TCP Retransmission] 80  >  49432 [SYN, ACK] Seq=0 Ack=1 Win=64240 Len=0 MSS=1460\"\r\n",
      "\"5\",\"0.206296\",\"204.79.197.200\",\"172.16.165.165\",\"TCP\",\"60\",\"[TCP Retransmission] 80  >  49433 [SYN, ACK] Seq=0 Ack=1 Win=64240 Len=0 MSS=1460\"\r\n",
      "\"6\",\"0.206297\",\"204.79.197.200\",\"172.16.165.165\",\"TCP\",\"60\",\"[TCP Retransmission] 80  >  49432 [SYN, ACK] Seq=0 Ack=1 Win=64240 Len=0 MSS=1460\"\r\n",
      "\"7\",\"0.300535\",\"204.79.197.200\",\"172.16.165.165\",\"TCP\",\"60\",\"[TCP Retransmission] 80  >  49433 [SYN, ACK] Seq=0 Ack=1 Win=64240 Len=0 MSS=1460\"\r\n",
      "\"8\",\"0.300536\",\"204.79.197.200\",\"172.16.165.165\",\"TCP\",\"60\",\"[TCP Retransmission] 80  >  49432 [SYN, ACK] Seq=0 Ack=1 Win=64240 Len=0 MSS=1460\"\r\n",
      "\"9\",\"0.400631\",\"204.79.197.200\",\"172.16.165.165\",\"TCP\",\"60\",\"[TCP Retransmission] 80  >  49433 [SYN, ACK] Seq=0 Ack=1 Win=64240 Len=0 MSS=1460\"\r\n"
     ]
    }
   ],
   "source": [
    "# Вот первые несколько строк этого файла\n",
    "\n",
    "!head var1.csv"
   ]
  },
  {
   "cell_type": "code",
   "execution_count": 16,
   "id": "bd2f9c2a",
   "metadata": {},
   "outputs": [
    {
     "data": {
      "text/html": [
       "<div>\n",
       "<style scoped>\n",
       "    .dataframe tbody tr th:only-of-type {\n",
       "        vertical-align: middle;\n",
       "    }\n",
       "\n",
       "    .dataframe tbody tr th {\n",
       "        vertical-align: top;\n",
       "    }\n",
       "\n",
       "    .dataframe thead th {\n",
       "        text-align: right;\n",
       "    }\n",
       "</style>\n",
       "<table border=\"1\" class=\"dataframe\">\n",
       "  <thead>\n",
       "    <tr style=\"text-align: right;\">\n",
       "      <th></th>\n",
       "      <th>No.</th>\n",
       "      <th>Time</th>\n",
       "      <th>Source</th>\n",
       "      <th>Destination</th>\n",
       "      <th>Protocol</th>\n",
       "      <th>Length</th>\n",
       "      <th>Info</th>\n",
       "    </tr>\n",
       "  </thead>\n",
       "  <tbody>\n",
       "    <tr>\n",
       "      <th>0</th>\n",
       "      <td>1</td>\n",
       "      <td>0.000000</td>\n",
       "      <td>204.79.197.200</td>\n",
       "      <td>172.16.165.165</td>\n",
       "      <td>TCP</td>\n",
       "      <td>60</td>\n",
       "      <td>80  &gt;  49433 [SYN, ACK] Seq=0 Ack=1 Win=64240 ...</td>\n",
       "    </tr>\n",
       "    <tr>\n",
       "      <th>1</th>\n",
       "      <td>2</td>\n",
       "      <td>0.000000</td>\n",
       "      <td>204.79.197.200</td>\n",
       "      <td>172.16.165.165</td>\n",
       "      <td>TCP</td>\n",
       "      <td>60</td>\n",
       "      <td>80  &gt;  49432 [SYN, ACK] Seq=0 Ack=1 Win=64240 ...</td>\n",
       "    </tr>\n",
       "    <tr>\n",
       "      <th>2</th>\n",
       "      <td>3</td>\n",
       "      <td>0.101536</td>\n",
       "      <td>204.79.197.200</td>\n",
       "      <td>172.16.165.165</td>\n",
       "      <td>TCP</td>\n",
       "      <td>60</td>\n",
       "      <td>[TCP Retransmission] 80  &gt;  49433 [SYN, ACK] S...</td>\n",
       "    </tr>\n",
       "    <tr>\n",
       "      <th>3</th>\n",
       "      <td>4</td>\n",
       "      <td>0.101537</td>\n",
       "      <td>204.79.197.200</td>\n",
       "      <td>172.16.165.165</td>\n",
       "      <td>TCP</td>\n",
       "      <td>60</td>\n",
       "      <td>[TCP Retransmission] 80  &gt;  49432 [SYN, ACK] S...</td>\n",
       "    </tr>\n",
       "    <tr>\n",
       "      <th>4</th>\n",
       "      <td>5</td>\n",
       "      <td>0.206296</td>\n",
       "      <td>204.79.197.200</td>\n",
       "      <td>172.16.165.165</td>\n",
       "      <td>TCP</td>\n",
       "      <td>60</td>\n",
       "      <td>[TCP Retransmission] 80  &gt;  49433 [SYN, ACK] S...</td>\n",
       "    </tr>\n",
       "  </tbody>\n",
       "</table>\n",
       "</div>"
      ],
      "text/plain": [
       "   No.      Time          Source     Destination Protocol  Length  \\\n",
       "0    1  0.000000  204.79.197.200  172.16.165.165      TCP      60   \n",
       "1    2  0.000000  204.79.197.200  172.16.165.165      TCP      60   \n",
       "2    3  0.101536  204.79.197.200  172.16.165.165      TCP      60   \n",
       "3    4  0.101537  204.79.197.200  172.16.165.165      TCP      60   \n",
       "4    5  0.206296  204.79.197.200  172.16.165.165      TCP      60   \n",
       "\n",
       "                                                Info  \n",
       "0  80  >  49433 [SYN, ACK] Seq=0 Ack=1 Win=64240 ...  \n",
       "1  80  >  49432 [SYN, ACK] Seq=0 Ack=1 Win=64240 ...  \n",
       "2  [TCP Retransmission] 80  >  49433 [SYN, ACK] S...  \n",
       "3  [TCP Retransmission] 80  >  49432 [SYN, ACK] S...  \n",
       "4  [TCP Retransmission] 80  >  49433 [SYN, ACK] S...  "
      ]
     },
     "execution_count": 16,
     "metadata": {},
     "output_type": "execute_result"
    }
   ],
   "source": [
    "import pandas as pd\n",
    "\n",
    "# Соберу датафрейм из csv файла\n",
    "\n",
    "df = pd.read_csv(\"var1.csv\")\n",
    "df.head()"
   ]
  },
  {
   "cell_type": "code",
   "execution_count": null,
   "id": "3ec5fc43",
   "metadata": {},
   "outputs": [],
   "source": []
  }
 ],
 "metadata": {
  "kernelspec": {
   "display_name": "Python 3 (ipykernel)",
   "language": "python",
   "name": "python3"
  },
  "language_info": {
   "codemirror_mode": {
    "name": "ipython",
    "version": 3
   },
   "file_extension": ".py",
   "mimetype": "text/x-python",
   "name": "python",
   "nbconvert_exporter": "python",
   "pygments_lexer": "ipython3",
   "version": "3.11.2"
  }
 },
 "nbformat": 4,
 "nbformat_minor": 5
}
